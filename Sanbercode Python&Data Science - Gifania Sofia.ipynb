{
 "cells": [
  {
   "cell_type": "code",
   "execution_count": 1,
   "metadata": {},
   "outputs": [],
   "source": [
    "import pandas as pd\n",
    "import numpy as np\n",
    "from sklearn.ensemble import RandomForestClassifier, GradientBoostingClassifier, VotingClassifier\n",
    "from sklearn.model_selection import GridSearchCV, cross_validate, cross_val_score, cross_val_predict\n",
    "from sklearn.metrics import confusion_matrix, classification_report\n",
    "import seaborn as sns\n",
    "import matplotlib.pyplot as plt"
   ]
  },
  {
   "cell_type": "code",
   "execution_count": 2,
   "metadata": {},
   "outputs": [],
   "source": [
    "import pandas as pd\n",
    "import numpy as np\n",
    "import matplotlib.pyplot as plt\n",
    "import seaborn as sns\n",
    "\n",
    "\n",
    "\n",
    "#  Data Modelling Libraries\n",
    "from sklearn.ensemble import (RandomForestClassifier, AdaBoostClassifier,\n",
    "                             GradientBoostingClassifier, ExtraTreesClassifier,\n",
    "                             VotingClassifier)\n",
    "\n",
    "from sklearn.model_selection import (GridSearchCV, cross_val_score, cross_val_predict,\n",
    "                                     StratifiedKFold, learning_curve)\n",
    "\n",
    "\n",
    "from sklearn.metrics import (confusion_matrix, accuracy_score) \n",
    "from sklearn.discriminant_analysis import LinearDiscriminantAnalysis\n",
    "from sklearn.linear_model import LogisticRegression\n",
    "from sklearn.neighbors import KNeighborsClassifier\n",
    "from sklearn.neural_network import MLPClassifier\n",
    "from sklearn.tree import DecisionTreeClassifier\n",
    "from sklearn.naive_bayes import GaussianNB\n",
    "from sklearn.svm import SVC\n",
    "\n",
    "import warnings\n",
    "from collections import Counter"
   ]
  },
  {
   "cell_type": "code",
   "execution_count": 3,
   "metadata": {},
   "outputs": [
    {
     "data": {
      "text/html": [
       "<div>\n",
       "<style scoped>\n",
       "    .dataframe tbody tr th:only-of-type {\n",
       "        vertical-align: middle;\n",
       "    }\n",
       "\n",
       "    .dataframe tbody tr th {\n",
       "        vertical-align: top;\n",
       "    }\n",
       "\n",
       "    .dataframe thead th {\n",
       "        text-align: right;\n",
       "    }\n",
       "</style>\n",
       "<table border=\"1\" class=\"dataframe\">\n",
       "  <thead>\n",
       "    <tr style=\"text-align: right;\">\n",
       "      <th></th>\n",
       "      <th>id</th>\n",
       "      <th>Umur</th>\n",
       "      <th>Kelas Pekerja</th>\n",
       "      <th>Berat Akhir</th>\n",
       "      <th>Pendidikan</th>\n",
       "      <th>Jmlh Tahun Pendidikan</th>\n",
       "      <th>Status Perkawinan</th>\n",
       "      <th>Pekerjaan</th>\n",
       "      <th>Jenis Kelamin</th>\n",
       "      <th>Keuntungan Kapital</th>\n",
       "      <th>Kerugian Capital</th>\n",
       "      <th>Jam per Minggu</th>\n",
       "      <th>Gaji</th>\n",
       "    </tr>\n",
       "  </thead>\n",
       "  <tbody>\n",
       "    <tr>\n",
       "      <th>0</th>\n",
       "      <td>27247</td>\n",
       "      <td>59</td>\n",
       "      <td>Pemerintah Negara</td>\n",
       "      <td>139616</td>\n",
       "      <td>Master</td>\n",
       "      <td>14</td>\n",
       "      <td>Menikah</td>\n",
       "      <td>Ekesekutif Managerial</td>\n",
       "      <td>Laki2</td>\n",
       "      <td>0.0</td>\n",
       "      <td>0.0</td>\n",
       "      <td>50.0</td>\n",
       "      <td>1</td>\n",
       "    </tr>\n",
       "    <tr>\n",
       "      <th>1</th>\n",
       "      <td>1640</td>\n",
       "      <td>52</td>\n",
       "      <td>Wiraswasta</td>\n",
       "      <td>158993</td>\n",
       "      <td>SMA</td>\n",
       "      <td>9</td>\n",
       "      <td>Cerai</td>\n",
       "      <td>Servis Lainnya</td>\n",
       "      <td>Perempuan</td>\n",
       "      <td>0.0</td>\n",
       "      <td>0.0</td>\n",
       "      <td>38.0</td>\n",
       "      <td>0</td>\n",
       "    </tr>\n",
       "    <tr>\n",
       "      <th>2</th>\n",
       "      <td>45206</td>\n",
       "      <td>52</td>\n",
       "      <td>Pekerja Bebas Bukan Perusahan</td>\n",
       "      <td>284648</td>\n",
       "      <td>SMA</td>\n",
       "      <td>9</td>\n",
       "      <td>Cerai</td>\n",
       "      <td>Ekesekutif Managerial</td>\n",
       "      <td>Perempuan</td>\n",
       "      <td>0.0</td>\n",
       "      <td>0.0</td>\n",
       "      <td>99.0</td>\n",
       "      <td>1</td>\n",
       "    </tr>\n",
       "    <tr>\n",
       "      <th>3</th>\n",
       "      <td>16154</td>\n",
       "      <td>45</td>\n",
       "      <td>Wiraswasta</td>\n",
       "      <td>132847</td>\n",
       "      <td>SMA</td>\n",
       "      <td>9</td>\n",
       "      <td>Belum Pernah Menikah</td>\n",
       "      <td>Pembersih</td>\n",
       "      <td>Perempuan</td>\n",
       "      <td>0.0</td>\n",
       "      <td>0.0</td>\n",
       "      <td>40.0</td>\n",
       "      <td>0</td>\n",
       "    </tr>\n",
       "    <tr>\n",
       "      <th>4</th>\n",
       "      <td>43023</td>\n",
       "      <td>28</td>\n",
       "      <td>Wiraswasta</td>\n",
       "      <td>103432</td>\n",
       "      <td>SMA</td>\n",
       "      <td>9</td>\n",
       "      <td>Belum Pernah Menikah</td>\n",
       "      <td>Supir</td>\n",
       "      <td>Laki2</td>\n",
       "      <td>0.0</td>\n",
       "      <td>0.0</td>\n",
       "      <td>45.0</td>\n",
       "      <td>1</td>\n",
       "    </tr>\n",
       "    <tr>\n",
       "      <th>...</th>\n",
       "      <td>...</td>\n",
       "      <td>...</td>\n",
       "      <td>...</td>\n",
       "      <td>...</td>\n",
       "      <td>...</td>\n",
       "      <td>...</td>\n",
       "      <td>...</td>\n",
       "      <td>...</td>\n",
       "      <td>...</td>\n",
       "      <td>...</td>\n",
       "      <td>...</td>\n",
       "      <td>...</td>\n",
       "      <td>...</td>\n",
       "    </tr>\n",
       "    <tr>\n",
       "      <th>38388</th>\n",
       "      <td>46220</td>\n",
       "      <td>47</td>\n",
       "      <td>Pekerja Bebas Bukan Perusahan</td>\n",
       "      <td>148169</td>\n",
       "      <td>SMA</td>\n",
       "      <td>9</td>\n",
       "      <td>Menikah</td>\n",
       "      <td>Perbaikan Kerajinan</td>\n",
       "      <td>Laki2</td>\n",
       "      <td>0.0</td>\n",
       "      <td>0.0</td>\n",
       "      <td>40.0</td>\n",
       "      <td>0</td>\n",
       "    </tr>\n",
       "    <tr>\n",
       "      <th>38389</th>\n",
       "      <td>33268</td>\n",
       "      <td>69</td>\n",
       "      <td>Pekerja Bebas Perusahaan</td>\n",
       "      <td>264722</td>\n",
       "      <td>D3</td>\n",
       "      <td>12</td>\n",
       "      <td>Menikah</td>\n",
       "      <td>Sales</td>\n",
       "      <td>Laki2</td>\n",
       "      <td>0.0</td>\n",
       "      <td>0.0</td>\n",
       "      <td>40.0</td>\n",
       "      <td>1</td>\n",
       "    </tr>\n",
       "    <tr>\n",
       "      <th>38390</th>\n",
       "      <td>44845</td>\n",
       "      <td>24</td>\n",
       "      <td>Pekerja Bebas Bukan Perusahan</td>\n",
       "      <td>31606</td>\n",
       "      <td>Sarjana</td>\n",
       "      <td>13</td>\n",
       "      <td>Menikah</td>\n",
       "      <td>Spesialis</td>\n",
       "      <td>Perempuan</td>\n",
       "      <td>0.0</td>\n",
       "      <td>0.0</td>\n",
       "      <td>20.0</td>\n",
       "      <td>1</td>\n",
       "    </tr>\n",
       "    <tr>\n",
       "      <th>38391</th>\n",
       "      <td>4517</td>\n",
       "      <td>47</td>\n",
       "      <td>Wiraswasta</td>\n",
       "      <td>197836</td>\n",
       "      <td>SMA</td>\n",
       "      <td>9</td>\n",
       "      <td>Menikah</td>\n",
       "      <td>Sales</td>\n",
       "      <td>Laki2</td>\n",
       "      <td>0.0</td>\n",
       "      <td>0.0</td>\n",
       "      <td>45.0</td>\n",
       "      <td>0</td>\n",
       "    </tr>\n",
       "    <tr>\n",
       "      <th>38392</th>\n",
       "      <td>38693</td>\n",
       "      <td>45</td>\n",
       "      <td>Wiraswasta</td>\n",
       "      <td>243743</td>\n",
       "      <td>Sarjana</td>\n",
       "      <td>13</td>\n",
       "      <td>Menikah</td>\n",
       "      <td>Ekesekutif Managerial</td>\n",
       "      <td>Laki2</td>\n",
       "      <td>0.0</td>\n",
       "      <td>0.0</td>\n",
       "      <td>60.0</td>\n",
       "      <td>1</td>\n",
       "    </tr>\n",
       "  </tbody>\n",
       "</table>\n",
       "<p>38393 rows × 13 columns</p>\n",
       "</div>"
      ],
      "text/plain": [
       "          id  Umur                  Kelas Pekerja  Berat Akhir Pendidikan  \\\n",
       "0      27247    59              Pemerintah Negara       139616     Master   \n",
       "1       1640    52                     Wiraswasta       158993        SMA   \n",
       "2      45206    52  Pekerja Bebas Bukan Perusahan       284648        SMA   \n",
       "3      16154    45                     Wiraswasta       132847        SMA   \n",
       "4      43023    28                     Wiraswasta       103432        SMA   \n",
       "...      ...   ...                            ...          ...        ...   \n",
       "38388  46220    47  Pekerja Bebas Bukan Perusahan       148169        SMA   \n",
       "38389  33268    69       Pekerja Bebas Perusahaan       264722         D3   \n",
       "38390  44845    24  Pekerja Bebas Bukan Perusahan        31606    Sarjana   \n",
       "38391   4517    47                     Wiraswasta       197836        SMA   \n",
       "38392  38693    45                     Wiraswasta       243743    Sarjana   \n",
       "\n",
       "       Jmlh Tahun Pendidikan     Status Perkawinan              Pekerjaan  \\\n",
       "0                         14               Menikah  Ekesekutif Managerial   \n",
       "1                          9                 Cerai         Servis Lainnya   \n",
       "2                          9                 Cerai  Ekesekutif Managerial   \n",
       "3                          9  Belum Pernah Menikah              Pembersih   \n",
       "4                          9  Belum Pernah Menikah                  Supir   \n",
       "...                      ...                   ...                    ...   \n",
       "38388                      9               Menikah    Perbaikan Kerajinan   \n",
       "38389                     12               Menikah                  Sales   \n",
       "38390                     13               Menikah              Spesialis   \n",
       "38391                      9               Menikah                  Sales   \n",
       "38392                     13               Menikah  Ekesekutif Managerial   \n",
       "\n",
       "      Jenis Kelamin  Keuntungan Kapital  Kerugian Capital  Jam per Minggu  \\\n",
       "0             Laki2                 0.0               0.0            50.0   \n",
       "1         Perempuan                 0.0               0.0            38.0   \n",
       "2         Perempuan                 0.0               0.0            99.0   \n",
       "3         Perempuan                 0.0               0.0            40.0   \n",
       "4             Laki2                 0.0               0.0            45.0   \n",
       "...             ...                 ...               ...             ...   \n",
       "38388         Laki2                 0.0               0.0            40.0   \n",
       "38389         Laki2                 0.0               0.0            40.0   \n",
       "38390     Perempuan                 0.0               0.0            20.0   \n",
       "38391         Laki2                 0.0               0.0            45.0   \n",
       "38392         Laki2                 0.0               0.0            60.0   \n",
       "\n",
       "       Gaji  \n",
       "0         1  \n",
       "1         0  \n",
       "2         1  \n",
       "3         0  \n",
       "4         1  \n",
       "...     ...  \n",
       "38388     0  \n",
       "38389     1  \n",
       "38390     1  \n",
       "38391     0  \n",
       "38392     1  \n",
       "\n",
       "[38393 rows x 13 columns]"
      ]
     },
     "execution_count": 3,
     "metadata": {},
     "output_type": "execute_result"
    }
   ],
   "source": [
    "train_df = pd.read_csv('Pendapatan.csv')\n",
    "test_df = pd.read_csv('Pendapatan_test.csv')\n",
    "\n",
    "train_df"
   ]
  },
  {
   "cell_type": "code",
   "execution_count": 4,
   "metadata": {},
   "outputs": [
    {
     "name": "stdout",
     "output_type": "stream",
     "text": [
      "<class 'pandas.core.frame.DataFrame'>\n",
      "RangeIndex: 38393 entries, 0 to 38392\n",
      "Data columns (total 13 columns):\n",
      " #   Column                 Non-Null Count  Dtype  \n",
      "---  ------                 --------------  -----  \n",
      " 0   id                     38393 non-null  int64  \n",
      " 1   Umur                   38393 non-null  int64  \n",
      " 2   Kelas Pekerja          38393 non-null  object \n",
      " 3   Berat Akhir            38393 non-null  int64  \n",
      " 4   Pendidikan             38393 non-null  object \n",
      " 5   Jmlh Tahun Pendidikan  38393 non-null  int64  \n",
      " 6   Status Perkawinan      38393 non-null  object \n",
      " 7   Pekerjaan              38393 non-null  object \n",
      " 8   Jenis Kelamin          38393 non-null  object \n",
      " 9   Keuntungan Kapital     38393 non-null  float64\n",
      " 10  Kerugian Capital       38393 non-null  float64\n",
      " 11  Jam per Minggu         38393 non-null  float64\n",
      " 12  Gaji                   38393 non-null  int64  \n",
      "dtypes: float64(3), int64(5), object(5)\n",
      "memory usage: 3.8+ MB\n"
     ]
    }
   ],
   "source": [
    "train_df.info()"
   ]
  },
  {
   "cell_type": "code",
   "execution_count": 5,
   "metadata": {},
   "outputs": [
    {
     "data": {
      "text/html": [
       "<div>\n",
       "<style scoped>\n",
       "    .dataframe tbody tr th:only-of-type {\n",
       "        vertical-align: middle;\n",
       "    }\n",
       "\n",
       "    .dataframe tbody tr th {\n",
       "        vertical-align: top;\n",
       "    }\n",
       "\n",
       "    .dataframe thead th {\n",
       "        text-align: right;\n",
       "    }\n",
       "</style>\n",
       "<table border=\"1\" class=\"dataframe\">\n",
       "  <thead>\n",
       "    <tr style=\"text-align: right;\">\n",
       "      <th></th>\n",
       "      <th>Total</th>\n",
       "      <th>%</th>\n",
       "    </tr>\n",
       "  </thead>\n",
       "  <tbody>\n",
       "    <tr>\n",
       "      <th>Gaji</th>\n",
       "      <td>0</td>\n",
       "      <td>0.0</td>\n",
       "    </tr>\n",
       "    <tr>\n",
       "      <th>Jam per Minggu</th>\n",
       "      <td>0</td>\n",
       "      <td>0.0</td>\n",
       "    </tr>\n",
       "    <tr>\n",
       "      <th>Kerugian Capital</th>\n",
       "      <td>0</td>\n",
       "      <td>0.0</td>\n",
       "    </tr>\n",
       "    <tr>\n",
       "      <th>Keuntungan Kapital</th>\n",
       "      <td>0</td>\n",
       "      <td>0.0</td>\n",
       "    </tr>\n",
       "    <tr>\n",
       "      <th>Jenis Kelamin</th>\n",
       "      <td>0</td>\n",
       "      <td>0.0</td>\n",
       "    </tr>\n",
       "    <tr>\n",
       "      <th>Pekerjaan</th>\n",
       "      <td>0</td>\n",
       "      <td>0.0</td>\n",
       "    </tr>\n",
       "    <tr>\n",
       "      <th>Status Perkawinan</th>\n",
       "      <td>0</td>\n",
       "      <td>0.0</td>\n",
       "    </tr>\n",
       "    <tr>\n",
       "      <th>Jmlh Tahun Pendidikan</th>\n",
       "      <td>0</td>\n",
       "      <td>0.0</td>\n",
       "    </tr>\n",
       "    <tr>\n",
       "      <th>Pendidikan</th>\n",
       "      <td>0</td>\n",
       "      <td>0.0</td>\n",
       "    </tr>\n",
       "    <tr>\n",
       "      <th>Berat Akhir</th>\n",
       "      <td>0</td>\n",
       "      <td>0.0</td>\n",
       "    </tr>\n",
       "    <tr>\n",
       "      <th>Kelas Pekerja</th>\n",
       "      <td>0</td>\n",
       "      <td>0.0</td>\n",
       "    </tr>\n",
       "    <tr>\n",
       "      <th>Umur</th>\n",
       "      <td>0</td>\n",
       "      <td>0.0</td>\n",
       "    </tr>\n",
       "    <tr>\n",
       "      <th>id</th>\n",
       "      <td>0</td>\n",
       "      <td>0.0</td>\n",
       "    </tr>\n",
       "  </tbody>\n",
       "</table>\n",
       "</div>"
      ],
      "text/plain": [
       "                       Total    %\n",
       "Gaji                       0  0.0\n",
       "Jam per Minggu             0  0.0\n",
       "Kerugian Capital           0  0.0\n",
       "Keuntungan Kapital         0  0.0\n",
       "Jenis Kelamin              0  0.0\n",
       "Pekerjaan                  0  0.0\n",
       "Status Perkawinan          0  0.0\n",
       "Jmlh Tahun Pendidikan      0  0.0\n",
       "Pendidikan                 0  0.0\n",
       "Berat Akhir                0  0.0\n",
       "Kelas Pekerja              0  0.0\n",
       "Umur                       0  0.0\n",
       "id                         0  0.0"
      ]
     },
     "execution_count": 5,
     "metadata": {},
     "output_type": "execute_result"
    }
   ],
   "source": [
    "def find_missing_data(data):\n",
    "    Total = data.isnull().sum().sort_values(ascending = False)\n",
    "    Percentage = (data.isnull().sum()/data.isnull().count()).sort_values(ascending = False)\n",
    "    \n",
    "    return pd.concat([Total,Percentage] , axis = 1 , keys = ['Total' , '%'])\n",
    "\n",
    "find_missing_data(train_df)"
   ]
  },
  {
   "cell_type": "code",
   "execution_count": 6,
   "metadata": {},
   "outputs": [
    {
     "data": {
      "text/html": [
       "<div>\n",
       "<style scoped>\n",
       "    .dataframe tbody tr th:only-of-type {\n",
       "        vertical-align: middle;\n",
       "    }\n",
       "\n",
       "    .dataframe tbody tr th {\n",
       "        vertical-align: top;\n",
       "    }\n",
       "\n",
       "    .dataframe thead th {\n",
       "        text-align: right;\n",
       "    }\n",
       "</style>\n",
       "<table border=\"1\" class=\"dataframe\">\n",
       "  <thead>\n",
       "    <tr style=\"text-align: right;\">\n",
       "      <th></th>\n",
       "      <th>Total</th>\n",
       "      <th>%</th>\n",
       "    </tr>\n",
       "  </thead>\n",
       "  <tbody>\n",
       "    <tr>\n",
       "      <th>Jam per Minggu</th>\n",
       "      <td>0</td>\n",
       "      <td>0.0</td>\n",
       "    </tr>\n",
       "    <tr>\n",
       "      <th>Kerugian Capital</th>\n",
       "      <td>0</td>\n",
       "      <td>0.0</td>\n",
       "    </tr>\n",
       "    <tr>\n",
       "      <th>Keuntungan Kapital</th>\n",
       "      <td>0</td>\n",
       "      <td>0.0</td>\n",
       "    </tr>\n",
       "    <tr>\n",
       "      <th>Jenis Kelamin</th>\n",
       "      <td>0</td>\n",
       "      <td>0.0</td>\n",
       "    </tr>\n",
       "    <tr>\n",
       "      <th>Pekerjaan</th>\n",
       "      <td>0</td>\n",
       "      <td>0.0</td>\n",
       "    </tr>\n",
       "    <tr>\n",
       "      <th>Status Perkawinan</th>\n",
       "      <td>0</td>\n",
       "      <td>0.0</td>\n",
       "    </tr>\n",
       "    <tr>\n",
       "      <th>Jmlh Tahun Pendidikan</th>\n",
       "      <td>0</td>\n",
       "      <td>0.0</td>\n",
       "    </tr>\n",
       "    <tr>\n",
       "      <th>Pendidikan</th>\n",
       "      <td>0</td>\n",
       "      <td>0.0</td>\n",
       "    </tr>\n",
       "    <tr>\n",
       "      <th>Berat Akhir</th>\n",
       "      <td>0</td>\n",
       "      <td>0.0</td>\n",
       "    </tr>\n",
       "    <tr>\n",
       "      <th>Kelas Pekerja</th>\n",
       "      <td>0</td>\n",
       "      <td>0.0</td>\n",
       "    </tr>\n",
       "    <tr>\n",
       "      <th>Umur</th>\n",
       "      <td>0</td>\n",
       "      <td>0.0</td>\n",
       "    </tr>\n",
       "    <tr>\n",
       "      <th>id</th>\n",
       "      <td>0</td>\n",
       "      <td>0.0</td>\n",
       "    </tr>\n",
       "  </tbody>\n",
       "</table>\n",
       "</div>"
      ],
      "text/plain": [
       "                       Total    %\n",
       "Jam per Minggu             0  0.0\n",
       "Kerugian Capital           0  0.0\n",
       "Keuntungan Kapital         0  0.0\n",
       "Jenis Kelamin              0  0.0\n",
       "Pekerjaan                  0  0.0\n",
       "Status Perkawinan          0  0.0\n",
       "Jmlh Tahun Pendidikan      0  0.0\n",
       "Pendidikan                 0  0.0\n",
       "Berat Akhir                0  0.0\n",
       "Kelas Pekerja              0  0.0\n",
       "Umur                       0  0.0\n",
       "id                         0  0.0"
      ]
     },
     "execution_count": 6,
     "metadata": {},
     "output_type": "execute_result"
    }
   ],
   "source": [
    "find_missing_data(test_df)"
   ]
  },
  {
   "cell_type": "code",
   "execution_count": 7,
   "metadata": {},
   "outputs": [],
   "source": [
    "all_data=[train_df, test_df]\n",
    "str_list=[]\n",
    "\n",
    "for data in all_data:\n",
    "    for colname, colvalue in data.iteritems(): \n",
    "        if type(colvalue[1]) == str:\n",
    "            str_list.append(colname) \n",
    "num_list = data.columns.difference(str_list)"
   ]
  },
  {
   "cell_type": "code",
   "execution_count": 8,
   "metadata": {},
   "outputs": [
    {
     "data": {
      "text/plain": [
       "Index(['Berat Akhir', 'Jam per Minggu', 'Jmlh Tahun Pendidikan',\n",
       "       'Kerugian Capital', 'Keuntungan Kapital', 'Umur', 'id'],\n",
       "      dtype='object')"
      ]
     },
     "execution_count": 8,
     "metadata": {},
     "output_type": "execute_result"
    }
   ],
   "source": [
    "num_list"
   ]
  },
  {
   "cell_type": "code",
   "execution_count": 9,
   "metadata": {},
   "outputs": [
    {
     "data": {
      "text/plain": [
       "array(['Pemerintah Negara', 'Wiraswasta', 'Pekerja Bebas Bukan Perusahan',\n",
       "       '?', 'Pemerintah Lokal', 'Pekerja Bebas Perusahaan',\n",
       "       'Pemerintah Provinsi', 'Tanpa di Bayar', 'Tidak Pernah Bekerja'],\n",
       "      dtype=object)"
      ]
     },
     "execution_count": 9,
     "metadata": {},
     "output_type": "execute_result"
    }
   ],
   "source": [
    "train_df['Kelas Pekerja'].unique()"
   ]
  },
  {
   "cell_type": "code",
   "execution_count": 10,
   "metadata": {},
   "outputs": [],
   "source": [
    "# # the code will replace the special character to nan\n",
    "# for data in all_data:\n",
    "#     for i in data.columns:\n",
    "#         data[i].replace('?', np.nan, inplace=True)\n",
    "#     data.dropna(inplace=True)"
   ]
  },
  {
   "cell_type": "code",
   "execution_count": 11,
   "metadata": {},
   "outputs": [
    {
     "data": {
      "text/html": [
       "<div>\n",
       "<style scoped>\n",
       "    .dataframe tbody tr th:only-of-type {\n",
       "        vertical-align: middle;\n",
       "    }\n",
       "\n",
       "    .dataframe tbody tr th {\n",
       "        vertical-align: top;\n",
       "    }\n",
       "\n",
       "    .dataframe thead th {\n",
       "        text-align: right;\n",
       "    }\n",
       "</style>\n",
       "<table border=\"1\" class=\"dataframe\">\n",
       "  <thead>\n",
       "    <tr style=\"text-align: right;\">\n",
       "      <th></th>\n",
       "      <th>Total</th>\n",
       "      <th>%</th>\n",
       "    </tr>\n",
       "  </thead>\n",
       "  <tbody>\n",
       "    <tr>\n",
       "      <th>Gaji</th>\n",
       "      <td>0</td>\n",
       "      <td>0.0</td>\n",
       "    </tr>\n",
       "    <tr>\n",
       "      <th>Jam per Minggu</th>\n",
       "      <td>0</td>\n",
       "      <td>0.0</td>\n",
       "    </tr>\n",
       "    <tr>\n",
       "      <th>Kerugian Capital</th>\n",
       "      <td>0</td>\n",
       "      <td>0.0</td>\n",
       "    </tr>\n",
       "    <tr>\n",
       "      <th>Keuntungan Kapital</th>\n",
       "      <td>0</td>\n",
       "      <td>0.0</td>\n",
       "    </tr>\n",
       "    <tr>\n",
       "      <th>Jenis Kelamin</th>\n",
       "      <td>0</td>\n",
       "      <td>0.0</td>\n",
       "    </tr>\n",
       "    <tr>\n",
       "      <th>Pekerjaan</th>\n",
       "      <td>0</td>\n",
       "      <td>0.0</td>\n",
       "    </tr>\n",
       "    <tr>\n",
       "      <th>Status Perkawinan</th>\n",
       "      <td>0</td>\n",
       "      <td>0.0</td>\n",
       "    </tr>\n",
       "    <tr>\n",
       "      <th>Jmlh Tahun Pendidikan</th>\n",
       "      <td>0</td>\n",
       "      <td>0.0</td>\n",
       "    </tr>\n",
       "    <tr>\n",
       "      <th>Pendidikan</th>\n",
       "      <td>0</td>\n",
       "      <td>0.0</td>\n",
       "    </tr>\n",
       "    <tr>\n",
       "      <th>Berat Akhir</th>\n",
       "      <td>0</td>\n",
       "      <td>0.0</td>\n",
       "    </tr>\n",
       "    <tr>\n",
       "      <th>Kelas Pekerja</th>\n",
       "      <td>0</td>\n",
       "      <td>0.0</td>\n",
       "    </tr>\n",
       "    <tr>\n",
       "      <th>Umur</th>\n",
       "      <td>0</td>\n",
       "      <td>0.0</td>\n",
       "    </tr>\n",
       "    <tr>\n",
       "      <th>id</th>\n",
       "      <td>0</td>\n",
       "      <td>0.0</td>\n",
       "    </tr>\n",
       "  </tbody>\n",
       "</table>\n",
       "</div>"
      ],
      "text/plain": [
       "                       Total    %\n",
       "Gaji                       0  0.0\n",
       "Jam per Minggu             0  0.0\n",
       "Kerugian Capital           0  0.0\n",
       "Keuntungan Kapital         0  0.0\n",
       "Jenis Kelamin              0  0.0\n",
       "Pekerjaan                  0  0.0\n",
       "Status Perkawinan          0  0.0\n",
       "Jmlh Tahun Pendidikan      0  0.0\n",
       "Pendidikan                 0  0.0\n",
       "Berat Akhir                0  0.0\n",
       "Kelas Pekerja              0  0.0\n",
       "Umur                       0  0.0\n",
       "id                         0  0.0"
      ]
     },
     "execution_count": 11,
     "metadata": {},
     "output_type": "execute_result"
    }
   ],
   "source": [
    "find_missing_data(train_df)"
   ]
  },
  {
   "cell_type": "code",
   "execution_count": 12,
   "metadata": {},
   "outputs": [
    {
     "data": {
      "image/png": "[encoded data removed]",
      "text/plain": [
       "<Figure size 432x288 with 2 Axes>"
      ]
     },
     "metadata": {
      "needs_background": "light"
     },
     "output_type": "display_data"
    }
   ],
   "source": [
    "corr_numeric = sns.heatmap(train_df[['Gaji','Umur','Berat Akhir','Jmlh Tahun Pendidikan','Keuntungan Kapital',\n",
    "                                     'Kerugian Capital','Jam per Minggu']].corr(),\n",
    "                           annot=True, fmt = \".2f\", cmap = \"BuPu_r\")"
   ]
  },
  {
   "cell_type": "code",
   "execution_count": 13,
   "metadata": {},
   "outputs": [],
   "source": [
    "def detect_outliers(df,n,features):\n",
    "    \"\"\"\n",
    "    Takes a dataframe df of features and returns a list of the indices\n",
    "    corresponding to the observations containing more than n outliers according\n",
    "    to the Tukey method.\n",
    "    \"\"\"\n",
    "    outlier_indices = []\n",
    "    \n",
    "    # iterate over features(columns)\n",
    "    for col in features:\n",
    "        \n",
    "        # 1st quartile (25%)\n",
    "        Q1 = np.percentile(df[col], 25)\n",
    "        \n",
    "        # 3rd quartile (75%)\n",
    "        Q3 = np.percentile(df[col],75)\n",
    "        \n",
    "        # Interquartile range (IQR)\n",
    "        IQR = Q3 - Q1\n",
    "        \n",
    "        # outlier step\n",
    "        outlier_step = 1.5 * IQR\n",
    "                # Determine a list of indices of outliers for feature col\n",
    "        outlier_list_col = df[(df[col] < Q1 - outlier_step) | \n",
    "                              (df[col] > Q3 + outlier_step )].index\n",
    "        # append the found outlier indices for col to the list of outlier indices \n",
    "        outlier_indices.extend(outlier_list_col)\n",
    "   \n",
    "        \n",
    "    # select observations containing more than 2 outliers\n",
    "    outlier_indices = Counter(outlier_indices)  \n",
    "\n",
    "    multiple_outliers = list( k for k, v in outlier_indices.items() if v > n )\n",
    "    return multiple_outliers   \n",
    "\n",
    "# detect outliers from Age, SibSp , Parch and Fare\n",
    "Outliers_to_drop = detect_outliers(train_df,2,['Berat Akhir', 'Jam per Minggu', 'Jmlh Tahun Pendidikan',\n",
    "       'Kerugian Capital', 'Keuntungan Kapital', 'Umur',])"
   ]
  },
  {
   "cell_type": "code",
   "execution_count": 14,
   "metadata": {},
   "outputs": [],
   "source": [
    "train_df = train_df.drop(Outliers_to_drop, axis = 0).reset_index(drop=True)"
   ]
  },
  {
   "cell_type": "code",
   "execution_count": 15,
   "metadata": {},
   "outputs": [
    {
     "data": {
      "text/plain": [
       "array(['Master', 'SMA', 'Sarjana', '10th', 'Pendidikan Tinggi', '11th',\n",
       "       'D4', 'D3', 'Sekolah Professional', '9th', '7th-8th', 'Doktor',\n",
       "       '1st-4th', '5th-6th', '12th', 'SD'], dtype=object)"
      ]
     },
     "execution_count": 15,
     "metadata": {},
     "output_type": "execute_result"
    }
   ],
   "source": [
    "train_df['Pendidikan'].unique() #ordinal"
   ]
  },
  {
   "cell_type": "code",
   "execution_count": 16,
   "metadata": {},
   "outputs": [
    {
     "data": {
      "text/plain": [
       "array(['Menikah', 'Cerai', 'Belum Pernah Menikah', 'Berpisah',\n",
       "       'Menikah LDR', 'Janda'], dtype=object)"
      ]
     },
     "execution_count": 16,
     "metadata": {},
     "output_type": "execute_result"
    }
   ],
   "source": [
    "train_df['Status Perkawinan'].unique() # non ordinal"
   ]
  },
  {
   "cell_type": "code",
   "execution_count": 17,
   "metadata": {},
   "outputs": [
    {
     "data": {
      "text/plain": [
       "array(['Pemerintah Negara', 'Wiraswasta', 'Pekerja Bebas Bukan Perusahan',\n",
       "       '?', 'Pemerintah Lokal', 'Pekerja Bebas Perusahaan',\n",
       "       'Pemerintah Provinsi', 'Tanpa di Bayar', 'Tidak Pernah Bekerja'],\n",
       "      dtype=object)"
      ]
     },
     "execution_count": 17,
     "metadata": {},
     "output_type": "execute_result"
    }
   ],
   "source": [
    "train_df['Kelas Pekerja'].unique()"
   ]
  },
  {
   "cell_type": "code",
   "execution_count": 18,
   "metadata": {},
   "outputs": [
    {
     "data": {
      "text/plain": [
       "array(['Ekesekutif Managerial', 'Servis Lainnya', 'Pembersih', 'Supir',\n",
       "       'Sales', 'Perbaikan Kerajinan', '?', 'Tech-support',\n",
       "       'Pemuka Agama', 'Spesialis', 'Mesin Inspeksi', 'Petani', 'Penjaga',\n",
       "       'Asisten Rumah Tangga', 'Tentara'], dtype=object)"
      ]
     },
     "execution_count": 18,
     "metadata": {},
     "output_type": "execute_result"
    }
   ],
   "source": [
    "train_df['Pekerjaan'].unique()"
   ]
  },
  {
   "cell_type": "code",
   "execution_count": 19,
   "metadata": {},
   "outputs": [
    {
     "data": {
      "text/plain": [
       "array(['Laki2', 'Perempuan'], dtype=object)"
      ]
     },
     "execution_count": 19,
     "metadata": {},
     "output_type": "execute_result"
    }
   ],
   "source": [
    "train_df['Jenis Kelamin'].unique() # non ordinal"
   ]
  },
  {
   "cell_type": "code",
   "execution_count": 20,
   "metadata": {},
   "outputs": [
    {
     "data": {
      "text/html": [
       "<div>\n",
       "<style scoped>\n",
       "    .dataframe tbody tr th:only-of-type {\n",
       "        vertical-align: middle;\n",
       "    }\n",
       "\n",
       "    .dataframe tbody tr th {\n",
       "        vertical-align: top;\n",
       "    }\n",
       "\n",
       "    .dataframe thead th {\n",
       "        text-align: right;\n",
       "    }\n",
       "</style>\n",
       "<table border=\"1\" class=\"dataframe\">\n",
       "  <thead>\n",
       "    <tr style=\"text-align: right;\">\n",
       "      <th></th>\n",
       "      <th>Gaji</th>\n",
       "    </tr>\n",
       "    <tr>\n",
       "      <th>Pekerjaan</th>\n",
       "      <th></th>\n",
       "    </tr>\n",
       "  </thead>\n",
       "  <tbody>\n",
       "    <tr>\n",
       "      <th>?</th>\n",
       "      <td>211</td>\n",
       "    </tr>\n",
       "    <tr>\n",
       "      <th>Asisten Rumah Tangga</th>\n",
       "      <td>3</td>\n",
       "    </tr>\n",
       "    <tr>\n",
       "      <th>Ekesekutif Managerial</th>\n",
       "      <td>2258</td>\n",
       "    </tr>\n",
       "    <tr>\n",
       "      <th>Mesin Inspeksi</th>\n",
       "      <td>308</td>\n",
       "    </tr>\n",
       "    <tr>\n",
       "      <th>Pembersih</th>\n",
       "      <td>108</td>\n",
       "    </tr>\n",
       "    <tr>\n",
       "      <th>Pemuka Agama</th>\n",
       "      <td>630</td>\n",
       "    </tr>\n",
       "    <tr>\n",
       "      <th>Penjaga</th>\n",
       "      <td>225</td>\n",
       "    </tr>\n",
       "    <tr>\n",
       "      <th>Perbaikan Kerajinan</th>\n",
       "      <td>1061</td>\n",
       "    </tr>\n",
       "    <tr>\n",
       "      <th>Petani</th>\n",
       "      <td>131</td>\n",
       "    </tr>\n",
       "    <tr>\n",
       "      <th>Sales</th>\n",
       "      <td>1158</td>\n",
       "    </tr>\n",
       "    <tr>\n",
       "      <th>Servis Lainnya</th>\n",
       "      <td>151</td>\n",
       "    </tr>\n",
       "    <tr>\n",
       "      <th>Spesialis</th>\n",
       "      <td>2208</td>\n",
       "    </tr>\n",
       "    <tr>\n",
       "      <th>Supir</th>\n",
       "      <td>382</td>\n",
       "    </tr>\n",
       "    <tr>\n",
       "      <th>Tech-support</th>\n",
       "      <td>327</td>\n",
       "    </tr>\n",
       "    <tr>\n",
       "      <th>Tentara</th>\n",
       "      <td>4</td>\n",
       "    </tr>\n",
       "  </tbody>\n",
       "</table>\n",
       "</div>"
      ],
      "text/plain": [
       "                       Gaji\n",
       "Pekerjaan                  \n",
       "?                       211\n",
       "Asisten Rumah Tangga      3\n",
       "Ekesekutif Managerial  2258\n",
       "Mesin Inspeksi          308\n",
       "Pembersih               108\n",
       "Pemuka Agama            630\n",
       "Penjaga                 225\n",
       "Perbaikan Kerajinan    1061\n",
       "Petani                  131\n",
       "Sales                  1158\n",
       "Servis Lainnya          151\n",
       "Spesialis              2208\n",
       "Supir                   382\n",
       "Tech-support            327\n",
       "Tentara                   4"
      ]
     },
     "execution_count": 20,
     "metadata": {},
     "output_type": "execute_result"
    }
   ],
   "source": [
    "a = train_df[['Pekerjaan','Gaji']].groupby('Pekerjaan').sum()\n",
    "a"
   ]
  },
  {
   "cell_type": "code",
   "execution_count": 21,
   "metadata": {},
   "outputs": [
    {
     "data": {
      "text/plain": [
       "[3, 4, 108, 131, 151, 211, 225, 308, 327, 382, 630, 1061, 1158, 2208, 2258]"
      ]
     },
     "execution_count": 21,
     "metadata": {},
     "output_type": "execute_result"
    }
   ],
   "source": [
    "sorted(a['Gaji'])"
   ]
  },
  {
   "cell_type": "code",
   "execution_count": 22,
   "metadata": {},
   "outputs": [],
   "source": [
    "jobs = {'Asisten Rumah Tangga':0, #3\n",
    "        'Tentara':1, #4\n",
    "        'Pembersih':2, #108\n",
    "        'Petani':3, #132\n",
    "        'Servis Lainnya':4, #151\n",
    "        '?':5, #215\n",
    "        'Penjaga':6, #225\n",
    "        'Mesin Inspeksi':7, #308\n",
    "        'Tech-support':8, #327\n",
    "        'Supir':9, #383\n",
    "        'Pemuka Agama':10, #630\n",
    "        'Perbaikan Kerajinan':11, #1065\n",
    "        'Sales':12, #1163\n",
    "        'Spesialis':13, #2212\n",
    "        'Ekesekutif Managerial':14 } #2269\n",
    "\n",
    "data = [train_df, test_df]\n",
    "\n",
    "for dataset in data:\n",
    "    dataset['Pekerjaan'] = dataset['Pekerjaan'].map(jobs)"
   ]
  },
  {
   "cell_type": "code",
   "execution_count": 23,
   "metadata": {
    "scrolled": true
   },
   "outputs": [
    {
     "data": {
      "text/plain": [
       "array([1.97176e+08, 2.00816e+08, 2.10280e+08, 2.10336e+08, 2.21634e+08,\n",
       "       2.58734e+08, 2.80714e+08, 3.08560e+08])"
      ]
     },
     "execution_count": 23,
     "metadata": {},
     "output_type": "execute_result"
    }
   ],
   "source": [
    "a = np.array(sorted(train_df['Keuntungan Kapital'].unique()))\n",
    "a[104:112]"
   ]
  },
  {
   "cell_type": "code",
   "execution_count": 24,
   "metadata": {},
   "outputs": [
    {
     "name": "stdout",
     "output_type": "stream",
     "text": [
      "[range(0, 6), range(6, 12), range(12, 18), range(18, 24), range(24, 30), range(30, 36), range(36, 42), range(42, 48), range(48, 54), range(54, 60), range(60, 66), range(66, 72), range(72, 78), range(78, 84), range(84, 90), range(90, 96)]\n"
     ]
    }
   ],
   "source": [
    "indexes = np.arange(6, 96, 6)\n",
    "list = range(96)\n",
    "\n",
    "output = []\n",
    "prev = 0\n",
    "\n",
    "for index in indexes:\n",
    "    output.append(list[prev:index])\n",
    "    prev = index\n",
    "\n",
    "output.append(list[indexes[-1]:])\n",
    "\n",
    "print (output)"
   ]
  },
  {
   "cell_type": "code",
   "execution_count": 25,
   "metadata": {
    "scrolled": true
   },
   "outputs": [
    {
     "data": {
      "text/plain": [
       "array([ 8750000.,  9142000., 11340000., 12320000., 13636000., 15288000.,\n",
       "       15932000.])"
      ]
     },
     "execution_count": 25,
     "metadata": {},
     "output_type": "execute_result"
    }
   ],
   "source": [
    "a = np.array(sorted(train_df['Kerugian Capital'].unique()))\n",
    "a[5:12]"
   ]
  },
  {
   "cell_type": "code",
   "execution_count": 26,
   "metadata": {},
   "outputs": [],
   "source": [
    "data = [train_df, test_df]\n",
    "for dataset in data:\n",
    "    dataset['Kerugian Capital'] = dataset['Kerugian Capital'].astype(int)\n",
    "    \n",
    "    dataset.loc[(dataset['Kerugian Capital'] <= 8750000), 'Kerugian Capital'] = 0\n",
    "    dataset.loc[(dataset['Kerugian Capital'] > 8750000) & (dataset['Kerugian Capital'] <= 15932000), 'Kerugian Capital'] = 1\n",
    "    dataset.loc[(dataset['Kerugian Capital'] > 15932000) & (dataset['Kerugian Capital'] <= 19894000), 'Kerugian Capital'] = 2\n",
    "    dataset.loc[(dataset['Kerugian Capital'] > 19894000) & (dataset['Kerugian Capital'] <= 21896000), 'Kerugian Capital'] = 3\n",
    "    dataset.loc[(dataset['Kerugian Capital'] > 21896000) & (dataset['Kerugian Capital'] <= 22638000), 'Kerugian Capital'] = 4\n",
    "    dataset.loc[(dataset['Kerugian Capital'] > 22638000) & (dataset['Kerugian Capital'] <= 23408000), 'Kerugian Capital'] = 5    \n",
    "    dataset.loc[(dataset['Kerugian Capital'] > 23408000) & (dataset['Kerugian Capital'] <= 24374000), 'Kerugian Capital'] = 6\n",
    "    dataset.loc[(dataset['Kerugian Capital'] > 24374000) & (dataset['Kerugian Capital'] <= 25872000), 'Kerugian Capital'] = 7\n",
    "    dataset.loc[(dataset['Kerugian Capital'] > 25872000) & (dataset['Kerugian Capital'] <= 27636000), 'Kerugian Capital'] = 8\n",
    "    dataset.loc[(dataset['Kerugian Capital'] > 27636000) & (dataset['Kerugian Capital'] <= 28714000), 'Kerugian Capital'] = 9\n",
    "    dataset.loc[(dataset['Kerugian Capital'] > 28714000) & (dataset['Kerugian Capital'] <= 30436000), 'Kerugian Capital'] = 10\n",
    "    dataset.loc[(dataset['Kerugian Capital'] > 30436000) & (dataset['Kerugian Capital'] <= 31332000), 'Kerugian Capital'] = 11\n",
    "    dataset.loc[(dataset['Kerugian Capital'] > 31332000) & (dataset['Kerugian Capital'] <= 33278000), 'Kerugian Capital'] = 12\n",
    "    dataset.loc[(dataset['Kerugian Capital'] > 33278000) & (dataset['Kerugian Capital'] <= 34538000), 'Kerugian Capital'] = 13\n",
    "    dataset.loc[(dataset['Kerugian Capital'] > 34538000), 'Kerugian Capital'] = 14"
   ]
  },
  {
   "cell_type": "code",
   "execution_count": 27,
   "metadata": {},
   "outputs": [],
   "source": [
    "data = [train_df, test_df]\n",
    "for dataset in data:\n",
    "    dataset['Keuntungan Kapital'] = dataset['Keuntungan Kapital'].astype(int)\n",
    "    \n",
    "    dataset.loc[(dataset['Keuntungan Kapital'] <= 15204000), 'Keuntungan Kapital'] = 0\n",
    "    dataset.loc[(dataset['Keuntungan Kapital'] > 15204000) & (dataset['Keuntungan Kapital'] <= 20594000), 'Keuntungan Kapital'] = 1\n",
    "    dataset.loc[(dataset['Keuntungan Kapital'] > 20594000) & (dataset['Keuntungan Kapital'] <= 28700000), 'Keuntungan Kapital'] = 2\n",
    "    dataset.loc[(dataset['Keuntungan Kapital'] > 28700000) & (dataset['Keuntungan Kapital'] <= 32606000), 'Keuntungan Kapital'] = 3\n",
    "    dataset.loc[(dataset['Keuntungan Kapital'] > 32606000) & (dataset['Keuntungan Kapital'] <= 36120000), 'Keuntungan Kapital'] = 4\n",
    "    dataset.loc[(dataset['Keuntungan Kapital'] > 36120000) & (dataset['Keuntungan Kapital'] <= 41454000), 'Keuntungan Kapital'] = 5\n",
    "    dataset.loc[(dataset['Keuntungan Kapital'] > 41454000) & (dataset['Keuntungan Kapital'] <= 47754000), 'Keuntungan Kapital'] = 6\n",
    "    dataset.loc[(dataset['Keuntungan Kapital'] > 47754000) & (dataset['Keuntungan Kapital'] <= 53452000), 'Keuntungan Kapital'] = 7\n",
    "    dataset.loc[(dataset['Keuntungan Kapital'] > 53452000) & (dataset['Keuntungan Kapital'] <= 63112000), 'Keuntungan Kapital'] = 8\n",
    "    dataset.loc[(dataset['Keuntungan Kapital'] > 63112000) & (dataset['Keuntungan Kapital'] <= 72492000), 'Keuntungan Kapital'] = 9\n",
    "    dataset.loc[(dataset['Keuntungan Kapital'] > 72492000) & (dataset['Keuntungan Kapital'] <= 91196000), 'Keuntungan Kapital'] = 10\n",
    "    dataset.loc[(dataset['Keuntungan Kapital'] > 91196000) & (dataset['Keuntungan Kapital'] <= 1.07632e+08), 'Keuntungan Kapital'] = 11\n",
    "    dataset.loc[(dataset['Keuntungan Kapital'] > 1.07632e+08) & (dataset['Keuntungan Kapital'] <= 1.48470e+08), 'Keuntungan Kapital'] = 12\n",
    "    dataset.loc[(dataset['Keuntungan Kapital'] > 1.48470e+08) & (dataset['Keuntungan Kapital'] <= 2.58734e+08), 'Keuntungan Kapital'] = 13\n",
    "    dataset.loc[(dataset['Keuntungan Kapital'] > 2.58734e+08), 'Keuntungan Kapital'] = 14"
   ]
  },
  {
   "cell_type": "code",
   "execution_count": 31,
   "metadata": {},
   "outputs": [
    {
     "data": {
      "text/plain": [
       "<seaborn.axisgrid.FacetGrid at 0x233f4354088>"
      ]
     },
     "execution_count": 31,
     "metadata": {},
     "output_type": "execute_result"
    },
    {
     "data": {
      "image/png": "[encoded data removed]",
      "text/plain": [
       "<Figure size 906.375x216 with 1 Axes>"
      ]
     },
     "metadata": {
      "needs_background": "light"
     },
     "output_type": "display_data"
    }
   ],
   "source": [
    "fig = sns.FacetGrid(train_df, hue = 'Gaji', aspect = 4)\n",
    "fig.map(sns.kdeplot, 'Jam per Minggu' , shade = True)\n",
    "fig.set(xlim = (0, train_df['Jam per Minggu'].max()))\n",
    "plt.xticks(range(0,99,1), rotation=90)\n",
    "fig.add_legend()"
   ]
  },
  {
   "cell_type": "code",
   "execution_count": 33,
   "metadata": {},
   "outputs": [],
   "source": [
    "data = [train_df, test_df]\n",
    "for dataset in data:\n",
    "    dataset['Jam per Minggu'] = dataset['Jam per Minggu'].astype(int)\n",
    "    \n",
    "    dataset.loc[(dataset['Jam per Minggu'] <= 32) & (dataset['Jam per Minggu'] >= 63), 'Jam per Minggu'] = 0\n",
    "    \n",
    "    dataset.loc[(dataset['Jam per Minggu'] > 32) & (dataset['Jam per Minggu'] <= 37), 'Jam per Minggu'] = 1\n",
    "    dataset.loc[(dataset['Jam per Minggu'] > 53) & (dataset['Jam per Minggu'] <= 59), 'Jam per Minggu'] = 1\n",
    "\n",
    "    \n",
    "    dataset.loc[(dataset['Jam per Minggu'] > 43) & (dataset['Jam per Minggu'] <= 48), 'Jam per Minggu'] = 2\n",
    "    dataset.loc[(dataset['Jam per Minggu'] >= 59) & (dataset['Jam per Minggu'] < 63), 'Jam per Minggu'] = 2\n",
    "    \n",
    "\n",
    "    dataset.loc[(dataset['Jam per Minggu'] > 48) & (dataset['Jam per Minggu'] <= 53), 'Jam per Minggu'] = 3\n",
    "\n",
    "    dataset.loc[(dataset['Jam per Minggu'] > 37) & (dataset['Jam per Minggu'] <= 43), 'Jam per Minggu'] = 4"
   ]
  },
  {
   "cell_type": "code",
   "execution_count": 34,
   "metadata": {},
   "outputs": [
    {
     "data": {
      "image/png": "[encoded data removed]",
      "text/plain": [
       "<Figure size 432x288 with 1 Axes>"
      ]
     },
     "metadata": {
      "needs_background": "light"
     },
     "output_type": "display_data"
    }
   ],
   "source": [
    "plt.scatter(train_df['Pendidikan'], train_df['Jmlh Tahun Pendidikan'])\n",
    "plt.xticks(np.arange(0,16,1),rotation=90)\n",
    "plt.grid(True)\n",
    "plt.show()"
   ]
  },
  {
   "cell_type": "code",
   "execution_count": 35,
   "metadata": {},
   "outputs": [],
   "source": [
    "data = [train_df, test_df]\n",
    "\n",
    "for dataset in data:\n",
    "    dataset['Jmlh Tahun Pendidikan'] = dataset['Jmlh Tahun Pendidikan'].astype(int)\n",
    "    \n",
    "    dataset.loc[(dataset['Jmlh Tahun Pendidikan'] == 1), 'Jmlh Tahun Pendidikan'] = 0\n",
    "    dataset.loc[(dataset['Jmlh Tahun Pendidikan'] == 2), 'Jmlh Tahun Pendidikan'] = 1\n",
    "    dataset.loc[(dataset['Jmlh Tahun Pendidikan'] == 3), 'Jmlh Tahun Pendidikan'] = 2\n",
    "    dataset.loc[(dataset['Jmlh Tahun Pendidikan'] == 4), 'Jmlh Tahun Pendidikan'] = 3\n",
    "    dataset.loc[(dataset['Jmlh Tahun Pendidikan'] == 5), 'Jmlh Tahun Pendidikan'] = 4\n",
    "    dataset.loc[(dataset['Jmlh Tahun Pendidikan'] == 6), 'Jmlh Tahun Pendidikan'] = 5\n",
    "    dataset.loc[(dataset['Jmlh Tahun Pendidikan'] == 7), 'Jmlh Tahun Pendidikan'] = 6\n",
    "    dataset.loc[(dataset['Jmlh Tahun Pendidikan'] == 8), 'Jmlh Tahun Pendidikan'] = 7\n",
    "    dataset.loc[(dataset['Jmlh Tahun Pendidikan'] == 9), 'Jmlh Tahun Pendidikan'] = 8\n",
    "    dataset.loc[(dataset['Jmlh Tahun Pendidikan'] == 10), 'Jmlh Tahun Pendidikan'] = 9\n",
    "    dataset.loc[(dataset['Jmlh Tahun Pendidikan'] == 11), 'Jmlh Tahun Pendidikan'] = 10\n",
    "    dataset.loc[(dataset['Jmlh Tahun Pendidikan'] == 12), 'Jmlh Tahun Pendidikan'] = 11\n",
    "    dataset.loc[(dataset['Jmlh Tahun Pendidikan'] == 13), 'Jmlh Tahun Pendidikan'] = 12\n",
    "    dataset.loc[(dataset['Jmlh Tahun Pendidikan'] == 14), 'Jmlh Tahun Pendidikan'] = 13\n",
    "    dataset.loc[(dataset['Jmlh Tahun Pendidikan'] == 15), 'Jmlh Tahun Pendidikan'] = 14\n",
    "    dataset.loc[(dataset['Jmlh Tahun Pendidikan'] == 16), 'Jmlh Tahun Pendidikan'] = 15"
   ]
  },
  {
   "cell_type": "code",
   "execution_count": 36,
   "metadata": {},
   "outputs": [],
   "source": [
    "genders = {'Laki2': 0, 'Perempuan': 1}\n",
    "data = [train_df, test_df]\n",
    "\n",
    "for dataset in data:\n",
    "    dataset['Jenis Kelamin'] = dataset['Jenis Kelamin'].map(genders)"
   ]
  },
  {
   "cell_type": "code",
   "execution_count": 39,
   "metadata": {},
   "outputs": [],
   "source": [
    "pend = {'SD':0, '1st-4th':1, '5th-6th':2, '7th-8th':3, '9th':4, '10th':5, '11th':6, '12th':7, 'SMA':8,\n",
    "        'Pendidikan Tinggi':9, 'D4':10, 'D3':11, 'Sarjana':12, 'Master':13, 'Sekolah Professional':14,\n",
    "        'Doktor':15}\n",
    "data = [train_df, test_df]\n",
    "\n",
    "for dataset in data:\n",
    "    dataset['Pendidikan'] = dataset['Pendidikan'].map(pend)"
   ]
  },
  {
   "cell_type": "code",
   "execution_count": 41,
   "metadata": {},
   "outputs": [],
   "source": [
    "data = [train_df, test_df]\n",
    "for dataset in data:\n",
    "    dataset['Umur'] = dataset['Umur'].astype(int)\n",
    "    dataset.loc[(dataset['Umur'] >= 17) & (dataset['Umur'] <= 22), 'Umur'] = 0\n",
    "    dataset.loc[(dataset['Umur'] > 22) & (dataset['Umur'] <= 27), 'Umur'] = 1\n",
    "    dataset.loc[(dataset['Umur'] > 27) & (dataset['Umur'] <= 33), 'Umur'] = 2\n",
    "    dataset.loc[(dataset['Umur'] > 33) & (dataset['Umur'] <= 40), 'Umur'] = 3\n",
    "    dataset.loc[(dataset['Umur'] > 40) & (dataset['Umur'] <= 47), 'Umur'] = 4\n",
    "    dataset.loc[(dataset['Umur'] > 47) & (dataset['Umur'] <= 55), 'Umur'] = 5\n",
    "    dataset.loc[(dataset['Umur'] > 55), 'Umur'] = 6"
   ]
  },
  {
   "cell_type": "code",
   "execution_count": 42,
   "metadata": {},
   "outputs": [],
   "source": [
    "train_df = pd.get_dummies(train_df, columns=['Status Perkawinan','Kelas Pekerja'])\n",
    "test_df = pd.get_dummies(test_df, columns=['Status Perkawinan','Kelas Pekerja'])"
   ]
  },
  {
   "cell_type": "code",
   "execution_count": 43,
   "metadata": {},
   "outputs": [
    {
     "data": {
      "text/html": [
       "<div>\n",
       "<style scoped>\n",
       "    .dataframe tbody tr th:only-of-type {\n",
       "        vertical-align: middle;\n",
       "    }\n",
       "\n",
       "    .dataframe tbody tr th {\n",
       "        vertical-align: top;\n",
       "    }\n",
       "\n",
       "    .dataframe thead th {\n",
       "        text-align: right;\n",
       "    }\n",
       "</style>\n",
       "<table border=\"1\" class=\"dataframe\">\n",
       "  <thead>\n",
       "    <tr style=\"text-align: right;\">\n",
       "      <th></th>\n",
       "      <th>id</th>\n",
       "      <th>Umur</th>\n",
       "      <th>Berat Akhir</th>\n",
       "      <th>Pendidikan</th>\n",
       "      <th>Jmlh Tahun Pendidikan</th>\n",
       "      <th>Pekerjaan</th>\n",
       "      <th>Jenis Kelamin</th>\n",
       "      <th>Keuntungan Kapital</th>\n",
       "      <th>Kerugian Capital</th>\n",
       "      <th>Jam per Minggu</th>\n",
       "      <th>...</th>\n",
       "      <th>Status Perkawinan_Menikah LDR</th>\n",
       "      <th>Kelas Pekerja_?</th>\n",
       "      <th>Kelas Pekerja_Pekerja Bebas Bukan Perusahan</th>\n",
       "      <th>Kelas Pekerja_Pekerja Bebas Perusahaan</th>\n",
       "      <th>Kelas Pekerja_Pemerintah Lokal</th>\n",
       "      <th>Kelas Pekerja_Pemerintah Negara</th>\n",
       "      <th>Kelas Pekerja_Pemerintah Provinsi</th>\n",
       "      <th>Kelas Pekerja_Tanpa di Bayar</th>\n",
       "      <th>Kelas Pekerja_Tidak Pernah Bekerja</th>\n",
       "      <th>Kelas Pekerja_Wiraswasta</th>\n",
       "    </tr>\n",
       "  </thead>\n",
       "  <tbody>\n",
       "    <tr>\n",
       "      <th>0</th>\n",
       "      <td>27247</td>\n",
       "      <td>6</td>\n",
       "      <td>139616</td>\n",
       "      <td>13</td>\n",
       "      <td>13</td>\n",
       "      <td>14</td>\n",
       "      <td>0</td>\n",
       "      <td>0</td>\n",
       "      <td>0</td>\n",
       "      <td>3</td>\n",
       "      <td>...</td>\n",
       "      <td>0</td>\n",
       "      <td>0</td>\n",
       "      <td>0</td>\n",
       "      <td>0</td>\n",
       "      <td>0</td>\n",
       "      <td>1</td>\n",
       "      <td>0</td>\n",
       "      <td>0</td>\n",
       "      <td>0</td>\n",
       "      <td>0</td>\n",
       "    </tr>\n",
       "    <tr>\n",
       "      <th>1</th>\n",
       "      <td>1640</td>\n",
       "      <td>5</td>\n",
       "      <td>158993</td>\n",
       "      <td>8</td>\n",
       "      <td>8</td>\n",
       "      <td>4</td>\n",
       "      <td>1</td>\n",
       "      <td>0</td>\n",
       "      <td>0</td>\n",
       "      <td>4</td>\n",
       "      <td>...</td>\n",
       "      <td>0</td>\n",
       "      <td>0</td>\n",
       "      <td>0</td>\n",
       "      <td>0</td>\n",
       "      <td>0</td>\n",
       "      <td>0</td>\n",
       "      <td>0</td>\n",
       "      <td>0</td>\n",
       "      <td>0</td>\n",
       "      <td>1</td>\n",
       "    </tr>\n",
       "    <tr>\n",
       "      <th>2</th>\n",
       "      <td>45206</td>\n",
       "      <td>5</td>\n",
       "      <td>284648</td>\n",
       "      <td>8</td>\n",
       "      <td>8</td>\n",
       "      <td>14</td>\n",
       "      <td>1</td>\n",
       "      <td>0</td>\n",
       "      <td>0</td>\n",
       "      <td>99</td>\n",
       "      <td>...</td>\n",
       "      <td>0</td>\n",
       "      <td>0</td>\n",
       "      <td>1</td>\n",
       "      <td>0</td>\n",
       "      <td>0</td>\n",
       "      <td>0</td>\n",
       "      <td>0</td>\n",
       "      <td>0</td>\n",
       "      <td>0</td>\n",
       "      <td>0</td>\n",
       "    </tr>\n",
       "    <tr>\n",
       "      <th>3</th>\n",
       "      <td>16154</td>\n",
       "      <td>4</td>\n",
       "      <td>132847</td>\n",
       "      <td>8</td>\n",
       "      <td>8</td>\n",
       "      <td>2</td>\n",
       "      <td>1</td>\n",
       "      <td>0</td>\n",
       "      <td>0</td>\n",
       "      <td>4</td>\n",
       "      <td>...</td>\n",
       "      <td>0</td>\n",
       "      <td>0</td>\n",
       "      <td>0</td>\n",
       "      <td>0</td>\n",
       "      <td>0</td>\n",
       "      <td>0</td>\n",
       "      <td>0</td>\n",
       "      <td>0</td>\n",
       "      <td>0</td>\n",
       "      <td>1</td>\n",
       "    </tr>\n",
       "    <tr>\n",
       "      <th>4</th>\n",
       "      <td>43023</td>\n",
       "      <td>2</td>\n",
       "      <td>103432</td>\n",
       "      <td>8</td>\n",
       "      <td>8</td>\n",
       "      <td>9</td>\n",
       "      <td>0</td>\n",
       "      <td>0</td>\n",
       "      <td>0</td>\n",
       "      <td>2</td>\n",
       "      <td>...</td>\n",
       "      <td>0</td>\n",
       "      <td>0</td>\n",
       "      <td>0</td>\n",
       "      <td>0</td>\n",
       "      <td>0</td>\n",
       "      <td>0</td>\n",
       "      <td>0</td>\n",
       "      <td>0</td>\n",
       "      <td>0</td>\n",
       "      <td>1</td>\n",
       "    </tr>\n",
       "    <tr>\n",
       "      <th>...</th>\n",
       "      <td>...</td>\n",
       "      <td>...</td>\n",
       "      <td>...</td>\n",
       "      <td>...</td>\n",
       "      <td>...</td>\n",
       "      <td>...</td>\n",
       "      <td>...</td>\n",
       "      <td>...</td>\n",
       "      <td>...</td>\n",
       "      <td>...</td>\n",
       "      <td>...</td>\n",
       "      <td>...</td>\n",
       "      <td>...</td>\n",
       "      <td>...</td>\n",
       "      <td>...</td>\n",
       "      <td>...</td>\n",
       "      <td>...</td>\n",
       "      <td>...</td>\n",
       "      <td>...</td>\n",
       "      <td>...</td>\n",
       "      <td>...</td>\n",
       "    </tr>\n",
       "    <tr>\n",
       "      <th>38264</th>\n",
       "      <td>46220</td>\n",
       "      <td>4</td>\n",
       "      <td>148169</td>\n",
       "      <td>8</td>\n",
       "      <td>8</td>\n",
       "      <td>11</td>\n",
       "      <td>0</td>\n",
       "      <td>0</td>\n",
       "      <td>0</td>\n",
       "      <td>4</td>\n",
       "      <td>...</td>\n",
       "      <td>0</td>\n",
       "      <td>0</td>\n",
       "      <td>1</td>\n",
       "      <td>0</td>\n",
       "      <td>0</td>\n",
       "      <td>0</td>\n",
       "      <td>0</td>\n",
       "      <td>0</td>\n",
       "      <td>0</td>\n",
       "      <td>0</td>\n",
       "    </tr>\n",
       "    <tr>\n",
       "      <th>38265</th>\n",
       "      <td>33268</td>\n",
       "      <td>6</td>\n",
       "      <td>264722</td>\n",
       "      <td>11</td>\n",
       "      <td>11</td>\n",
       "      <td>12</td>\n",
       "      <td>0</td>\n",
       "      <td>0</td>\n",
       "      <td>0</td>\n",
       "      <td>4</td>\n",
       "      <td>...</td>\n",
       "      <td>0</td>\n",
       "      <td>0</td>\n",
       "      <td>0</td>\n",
       "      <td>1</td>\n",
       "      <td>0</td>\n",
       "      <td>0</td>\n",
       "      <td>0</td>\n",
       "      <td>0</td>\n",
       "      <td>0</td>\n",
       "      <td>0</td>\n",
       "    </tr>\n",
       "    <tr>\n",
       "      <th>38266</th>\n",
       "      <td>44845</td>\n",
       "      <td>1</td>\n",
       "      <td>31606</td>\n",
       "      <td>12</td>\n",
       "      <td>12</td>\n",
       "      <td>13</td>\n",
       "      <td>1</td>\n",
       "      <td>0</td>\n",
       "      <td>0</td>\n",
       "      <td>20</td>\n",
       "      <td>...</td>\n",
       "      <td>0</td>\n",
       "      <td>0</td>\n",
       "      <td>1</td>\n",
       "      <td>0</td>\n",
       "      <td>0</td>\n",
       "      <td>0</td>\n",
       "      <td>0</td>\n",
       "      <td>0</td>\n",
       "      <td>0</td>\n",
       "      <td>0</td>\n",
       "    </tr>\n",
       "    <tr>\n",
       "      <th>38267</th>\n",
       "      <td>4517</td>\n",
       "      <td>4</td>\n",
       "      <td>197836</td>\n",
       "      <td>8</td>\n",
       "      <td>8</td>\n",
       "      <td>12</td>\n",
       "      <td>0</td>\n",
       "      <td>0</td>\n",
       "      <td>0</td>\n",
       "      <td>2</td>\n",
       "      <td>...</td>\n",
       "      <td>0</td>\n",
       "      <td>0</td>\n",
       "      <td>0</td>\n",
       "      <td>0</td>\n",
       "      <td>0</td>\n",
       "      <td>0</td>\n",
       "      <td>0</td>\n",
       "      <td>0</td>\n",
       "      <td>0</td>\n",
       "      <td>1</td>\n",
       "    </tr>\n",
       "    <tr>\n",
       "      <th>38268</th>\n",
       "      <td>38693</td>\n",
       "      <td>4</td>\n",
       "      <td>243743</td>\n",
       "      <td>12</td>\n",
       "      <td>12</td>\n",
       "      <td>14</td>\n",
       "      <td>0</td>\n",
       "      <td>0</td>\n",
       "      <td>0</td>\n",
       "      <td>2</td>\n",
       "      <td>...</td>\n",
       "      <td>0</td>\n",
       "      <td>0</td>\n",
       "      <td>0</td>\n",
       "      <td>0</td>\n",
       "      <td>0</td>\n",
       "      <td>0</td>\n",
       "      <td>0</td>\n",
       "      <td>0</td>\n",
       "      <td>0</td>\n",
       "      <td>1</td>\n",
       "    </tr>\n",
       "  </tbody>\n",
       "</table>\n",
       "<p>38269 rows × 26 columns</p>\n",
       "</div>"
      ],
      "text/plain": [
       "          id  Umur  Berat Akhir  Pendidikan  Jmlh Tahun Pendidikan  Pekerjaan  \\\n",
       "0      27247     6       139616          13                     13         14   \n",
       "1       1640     5       158993           8                      8          4   \n",
       "2      45206     5       284648           8                      8         14   \n",
       "3      16154     4       132847           8                      8          2   \n",
       "4      43023     2       103432           8                      8          9   \n",
       "...      ...   ...          ...         ...                    ...        ...   \n",
       "38264  46220     4       148169           8                      8         11   \n",
       "38265  33268     6       264722          11                     11         12   \n",
       "38266  44845     1        31606          12                     12         13   \n",
       "38267   4517     4       197836           8                      8         12   \n",
       "38268  38693     4       243743          12                     12         14   \n",
       "\n",
       "       Jenis Kelamin  Keuntungan Kapital  Kerugian Capital  Jam per Minggu  \\\n",
       "0                  0                   0                 0               3   \n",
       "1                  1                   0                 0               4   \n",
       "2                  1                   0                 0              99   \n",
       "3                  1                   0                 0               4   \n",
       "4                  0                   0                 0               2   \n",
       "...              ...                 ...               ...             ...   \n",
       "38264              0                   0                 0               4   \n",
       "38265              0                   0                 0               4   \n",
       "38266              1                   0                 0              20   \n",
       "38267              0                   0                 0               2   \n",
       "38268              0                   0                 0               2   \n",
       "\n",
       "       ...  Status Perkawinan_Menikah LDR  Kelas Pekerja_?  \\\n",
       "0      ...                              0                0   \n",
       "1      ...                              0                0   \n",
       "2      ...                              0                0   \n",
       "3      ...                              0                0   \n",
       "4      ...                              0                0   \n",
       "...    ...                            ...              ...   \n",
       "38264  ...                              0                0   \n",
       "38265  ...                              0                0   \n",
       "38266  ...                              0                0   \n",
       "38267  ...                              0                0   \n",
       "38268  ...                              0                0   \n",
       "\n",
       "       Kelas Pekerja_Pekerja Bebas Bukan Perusahan  \\\n",
       "0                                                0   \n",
       "1                                                0   \n",
       "2                                                1   \n",
       "3                                                0   \n",
       "4                                                0   \n",
       "...                                            ...   \n",
       "38264                                            1   \n",
       "38265                                            0   \n",
       "38266                                            1   \n",
       "38267                                            0   \n",
       "38268                                            0   \n",
       "\n",
       "       Kelas Pekerja_Pekerja Bebas Perusahaan  Kelas Pekerja_Pemerintah Lokal  \\\n",
       "0                                           0                               0   \n",
       "1                                           0                               0   \n",
       "2                                           0                               0   \n",
       "3                                           0                               0   \n",
       "4                                           0                               0   \n",
       "...                                       ...                             ...   \n",
       "38264                                       0                               0   \n",
       "38265                                       1                               0   \n",
       "38266                                       0                               0   \n",
       "38267                                       0                               0   \n",
       "38268                                       0                               0   \n",
       "\n",
       "       Kelas Pekerja_Pemerintah Negara  Kelas Pekerja_Pemerintah Provinsi  \\\n",
       "0                                    1                                  0   \n",
       "1                                    0                                  0   \n",
       "2                                    0                                  0   \n",
       "3                                    0                                  0   \n",
       "4                                    0                                  0   \n",
       "...                                ...                                ...   \n",
       "38264                                0                                  0   \n",
       "38265                                0                                  0   \n",
       "38266                                0                                  0   \n",
       "38267                                0                                  0   \n",
       "38268                                0                                  0   \n",
       "\n",
       "       Kelas Pekerja_Tanpa di Bayar  Kelas Pekerja_Tidak Pernah Bekerja  \\\n",
       "0                                 0                                   0   \n",
       "1                                 0                                   0   \n",
       "2                                 0                                   0   \n",
       "3                                 0                                   0   \n",
       "4                                 0                                   0   \n",
       "...                             ...                                 ...   \n",
       "38264                             0                                   0   \n",
       "38265                             0                                   0   \n",
       "38266                             0                                   0   \n",
       "38267                             0                                   0   \n",
       "38268                             0                                   0   \n",
       "\n",
       "       Kelas Pekerja_Wiraswasta  \n",
       "0                             0  \n",
       "1                             1  \n",
       "2                             0  \n",
       "3                             1  \n",
       "4                             1  \n",
       "...                         ...  \n",
       "38264                         0  \n",
       "38265                         0  \n",
       "38266                         0  \n",
       "38267                         1  \n",
       "38268                         1  \n",
       "\n",
       "[38269 rows x 26 columns]"
      ]
     },
     "execution_count": 43,
     "metadata": {},
     "output_type": "execute_result"
    }
   ],
   "source": [
    "train_df"
   ]
  },
  {
   "cell_type": "code",
   "execution_count": 44,
   "metadata": {},
   "outputs": [
    {
     "data": {
      "text/html": [
       "<div>\n",
       "<style scoped>\n",
       "    .dataframe tbody tr th:only-of-type {\n",
       "        vertical-align: middle;\n",
       "    }\n",
       "\n",
       "    .dataframe tbody tr th {\n",
       "        vertical-align: top;\n",
       "    }\n",
       "\n",
       "    .dataframe thead th {\n",
       "        text-align: right;\n",
       "    }\n",
       "</style>\n",
       "<table border=\"1\" class=\"dataframe\">\n",
       "  <thead>\n",
       "    <tr style=\"text-align: right;\">\n",
       "      <th></th>\n",
       "      <th>Total</th>\n",
       "      <th>%</th>\n",
       "    </tr>\n",
       "  </thead>\n",
       "  <tbody>\n",
       "    <tr>\n",
       "      <th>Kelas Pekerja_Wiraswasta</th>\n",
       "      <td>0</td>\n",
       "      <td>0.0</td>\n",
       "    </tr>\n",
       "    <tr>\n",
       "      <th>Kelas Pekerja_Tidak Pernah Bekerja</th>\n",
       "      <td>0</td>\n",
       "      <td>0.0</td>\n",
       "    </tr>\n",
       "    <tr>\n",
       "      <th>Umur</th>\n",
       "      <td>0</td>\n",
       "      <td>0.0</td>\n",
       "    </tr>\n",
       "    <tr>\n",
       "      <th>Berat Akhir</th>\n",
       "      <td>0</td>\n",
       "      <td>0.0</td>\n",
       "    </tr>\n",
       "    <tr>\n",
       "      <th>Pendidikan</th>\n",
       "      <td>0</td>\n",
       "      <td>0.0</td>\n",
       "    </tr>\n",
       "  </tbody>\n",
       "</table>\n",
       "</div>"
      ],
      "text/plain": [
       "                                    Total    %\n",
       "Kelas Pekerja_Wiraswasta                0  0.0\n",
       "Kelas Pekerja_Tidak Pernah Bekerja      0  0.0\n",
       "Umur                                    0  0.0\n",
       "Berat Akhir                             0  0.0\n",
       "Pendidikan                              0  0.0"
      ]
     },
     "execution_count": 44,
     "metadata": {},
     "output_type": "execute_result"
    }
   ],
   "source": [
    "def find_missing_data(data):\n",
    "    Total = data.isnull().sum().sort_values(ascending = False)\n",
    "    Percentage = (data.isnull().sum()/data.isnull().count()).sort_values(ascending = False)\n",
    "    \n",
    "    return pd.concat([Total,Percentage] , axis = 1 , keys = ['Total' , '%'])\n",
    "\n",
    "find_missing_data(train_df).head(5)"
   ]
  },
  {
   "cell_type": "code",
   "execution_count": 46,
   "metadata": {},
   "outputs": [],
   "source": [
    "train_df = train_df.drop(['id','Berat Akhir'], axis=1)\n",
    "test_df = test_df.drop(['Berat Akhir'], axis=1)"
   ]
  },
  {
   "cell_type": "code",
   "execution_count": 47,
   "metadata": {},
   "outputs": [],
   "source": [
    "train_df1 = train_df[train_df['Gaji']==0]\n",
    "train_df2 = train_df[train_df['Gaji']==1]\n",
    "\n",
    "train_df1 = train_df1[:len(train_df2)]\n",
    "train_df = pd.concat([train_df1, train_df2])"
   ]
  },
  {
   "cell_type": "code",
   "execution_count": 48,
   "metadata": {},
   "outputs": [
    {
     "data": {
      "text/plain": [
       "1    9165\n",
       "0    9165\n",
       "Name: Gaji, dtype: int64"
      ]
     },
     "execution_count": 48,
     "metadata": {},
     "output_type": "execute_result"
    }
   ],
   "source": [
    "train_df['Gaji'].value_counts()"
   ]
  },
  {
   "cell_type": "code",
   "execution_count": 49,
   "metadata": {},
   "outputs": [],
   "source": [
    "x_train = train_df.drop(['Gaji'], axis=1)\n",
    "y_train = train_df['Gaji']\n",
    "x_test = test_df.drop(labels=['id'],axis=1)"
   ]
  },
  {
   "cell_type": "code",
   "execution_count": 50,
   "metadata": {},
   "outputs": [],
   "source": [
    "from sklearn.preprocessing import StandardScaler\n",
    "\n",
    "scaler = StandardScaler()\n",
    "\n",
    "# Fit only to the training data\n",
    "scaler.fit(x_train)\n",
    "\n",
    "StandardScaler(copy=True, with_mean=True, with_std=True)\n",
    "\n",
    "# Now apply the transformations to the data:\n",
    "colnames = x_train.columns\n",
    "colnames_test = x_test.columns\n",
    "x_train = pd.DataFrame(scaler.transform(x_train), columns=colnames)\n",
    "x_test = pd.DataFrame(scaler.transform(x_test), columns=colnames_test)"
   ]
  },
  {
   "cell_type": "code",
   "execution_count": 51,
   "metadata": {},
   "outputs": [
    {
     "data": {
      "text/plain": [
       "((18330, 23), (9599, 23))"
      ]
     },
     "execution_count": 51,
     "metadata": {},
     "output_type": "execute_result"
    }
   ],
   "source": [
    "x_train.shape, x_test.shape"
   ]
  },
  {
   "cell_type": "code",
   "execution_count": 58,
   "metadata": {},
   "outputs": [
    {
     "data": {
      "text/plain": [
       "Index(['Umur', 'Pendidikan', 'Jmlh Tahun Pendidikan', 'Pekerjaan',\n",
       "       'Jenis Kelamin', 'Keuntungan Kapital', 'Kerugian Capital',\n",
       "       'Jam per Minggu', 'Status Perkawinan_Belum Pernah Menikah',\n",
       "       'Status Perkawinan_Berpisah', 'Status Perkawinan_Cerai',\n",
       "       'Status Perkawinan_Janda', 'Status Perkawinan_Menikah',\n",
       "       'Status Perkawinan_Menikah LDR', 'Kelas Pekerja_?',\n",
       "       'Kelas Pekerja_Pekerja Bebas Bukan Perusahan',\n",
       "       'Kelas Pekerja_Pekerja Bebas Perusahaan',\n",
       "       'Kelas Pekerja_Pemerintah Lokal', 'Kelas Pekerja_Pemerintah Negara',\n",
       "       'Kelas Pekerja_Pemerintah Provinsi', 'Kelas Pekerja_Tanpa di Bayar',\n",
       "       'Kelas Pekerja_Tidak Pernah Bekerja', 'Kelas Pekerja_Wiraswasta'],\n",
       "      dtype='object')"
      ]
     },
     "execution_count": 58,
     "metadata": {},
     "output_type": "execute_result"
    }
   ],
   "source": [
    "x_train.columns"
   ]
  },
  {
   "cell_type": "code",
   "execution_count": 59,
   "metadata": {},
   "outputs": [
    {
     "data": {
      "text/plain": [
       "0.9176174920116387"
      ]
     },
     "execution_count": 59,
     "metadata": {},
     "output_type": "execute_result"
    }
   ],
   "source": [
    "GBC = GradientBoostingClassifier()\n",
    "gb_param_grid = {\n",
    "              'loss': ['deviance'],\n",
    "              'n_estimators' : [300],\n",
    "              'learning_rate':[0.1],\n",
    "              'random_state':[None, 0, 1, 2]\n",
    "              }\n",
    "\n",
    "gsGBC = GridSearchCV(GBC, param_grid = gb_param_grid, cv=10, \n",
    "                     scoring='roc_auc')\n",
    "\n",
    "gsGBC.fit(x_train,y_train)\n",
    "GBC_best = gsGBC.best_estimator_\n",
    "\n",
    "gsGBC.best_score_"
   ]
  },
  {
   "cell_type": "code",
   "execution_count": 65,
   "metadata": {},
   "outputs": [],
   "source": [
    "model_new = GBC_best"
   ]
  },
  {
   "cell_type": "code",
   "execution_count": 66,
   "metadata": {},
   "outputs": [
    {
     "name": "stdout",
     "output_type": "stream",
     "text": [
      "Nilai score validasi model terhadap data training adalah : 0.8451536643026005\n",
      "Nilai score validasi model terhadap data test adalah : 0.8342062193126022\n"
     ]
    }
   ],
   "source": [
    "cv_score = cross_validate(model_new, x_train, y_train, cv=10, return_train_score=True)\n",
    "print('Nilai score validasi model terhadap data training adalah :', cv_score['train_score'].mean())\n",
    "print('Nilai score validasi model terhadap data test adalah :', cv_score['test_score'].mean())"
   ]
  },
  {
   "cell_type": "code",
   "execution_count": 67,
   "metadata": {},
   "outputs": [
    {
     "data": {
      "text/html": [
       "<div>\n",
       "<style scoped>\n",
       "    .dataframe tbody tr th:only-of-type {\n",
       "        vertical-align: middle;\n",
       "    }\n",
       "\n",
       "    .dataframe tbody tr th {\n",
       "        vertical-align: top;\n",
       "    }\n",
       "\n",
       "    .dataframe thead th {\n",
       "        text-align: right;\n",
       "    }\n",
       "</style>\n",
       "<table border=\"1\" class=\"dataframe\">\n",
       "  <thead>\n",
       "    <tr style=\"text-align: right;\">\n",
       "      <th></th>\n",
       "      <th>id</th>\n",
       "      <th>Gaji</th>\n",
       "    </tr>\n",
       "  </thead>\n",
       "  <tbody>\n",
       "    <tr>\n",
       "      <th>0</th>\n",
       "      <td>47933</td>\n",
       "      <td>0</td>\n",
       "    </tr>\n",
       "    <tr>\n",
       "      <th>1</th>\n",
       "      <td>44213</td>\n",
       "      <td>0</td>\n",
       "    </tr>\n",
       "    <tr>\n",
       "      <th>2</th>\n",
       "      <td>20823</td>\n",
       "      <td>1</td>\n",
       "    </tr>\n",
       "    <tr>\n",
       "      <th>3</th>\n",
       "      <td>40565</td>\n",
       "      <td>1</td>\n",
       "    </tr>\n",
       "    <tr>\n",
       "      <th>4</th>\n",
       "      <td>9860</td>\n",
       "      <td>0</td>\n",
       "    </tr>\n",
       "    <tr>\n",
       "      <th>...</th>\n",
       "      <td>...</td>\n",
       "      <td>...</td>\n",
       "    </tr>\n",
       "    <tr>\n",
       "      <th>9594</th>\n",
       "      <td>13587</td>\n",
       "      <td>0</td>\n",
       "    </tr>\n",
       "    <tr>\n",
       "      <th>9595</th>\n",
       "      <td>33231</td>\n",
       "      <td>0</td>\n",
       "    </tr>\n",
       "    <tr>\n",
       "      <th>9596</th>\n",
       "      <td>18614</td>\n",
       "      <td>0</td>\n",
       "    </tr>\n",
       "    <tr>\n",
       "      <th>9597</th>\n",
       "      <td>37566</td>\n",
       "      <td>0</td>\n",
       "    </tr>\n",
       "    <tr>\n",
       "      <th>9598</th>\n",
       "      <td>6744</td>\n",
       "      <td>0</td>\n",
       "    </tr>\n",
       "  </tbody>\n",
       "</table>\n",
       "<p>9599 rows × 2 columns</p>\n",
       "</div>"
      ],
      "text/plain": [
       "         id  Gaji\n",
       "0     47933     0\n",
       "1     44213     0\n",
       "2     20823     1\n",
       "3     40565     1\n",
       "4      9860     0\n",
       "...     ...   ...\n",
       "9594  13587     0\n",
       "9595  33231     0\n",
       "9596  18614     0\n",
       "9597  37566     0\n",
       "9598   6744     0\n",
       "\n",
       "[9599 rows x 2 columns]"
      ]
     },
     "execution_count": 67,
     "metadata": {},
     "output_type": "execute_result"
    }
   ],
   "source": [
    "y_pred = model_new.predict(x_test)\n",
    "\n",
    "submission = pd.DataFrame({'id':test_df['id'],'Gaji':y_pred})\n",
    "\n",
    "submission"
   ]
  },
  {
   "cell_type": "code",
   "execution_count": 68,
   "metadata": {},
   "outputs": [
    {
     "data": {
      "text/plain": [
       "(9599, 2)"
      ]
     },
     "execution_count": 68,
     "metadata": {},
     "output_type": "execute_result"
    }
   ],
   "source": [
    "submission.shape"
   ]
  },
  {
   "cell_type": "code",
   "execution_count": 69,
   "metadata": {},
   "outputs": [],
   "source": [
    "submission.to_csv('Prediksi Gaji - mlp.csv', index=False)"
   ]
  },
  {
   "cell_type": "code",
   "execution_count": 70,
   "metadata": {},
   "outputs": [],
   "source": [
    "from sklearn.model_selection import train_test_split\n",
    "\n",
    "x_train_uji, x_test_uji, y_train_uji, y_test_uji = train_test_split(x_train, y_train, test_size=0.25, random_state=10)"
   ]
  },
  {
   "cell_type": "code",
   "execution_count": 71,
   "metadata": {},
   "outputs": [
    {
     "name": "stdout",
     "output_type": "stream",
     "text": [
      "              precision    recall  f1-score   support\n",
      "\n",
      "           0       0.86      0.83      0.85      2284\n",
      "           1       0.84      0.87      0.85      2299\n",
      "\n",
      "    accuracy                           0.85      4583\n",
      "   macro avg       0.85      0.85      0.85      4583\n",
      "weighted avg       0.85      0.85      0.85      4583\n",
      "\n"
     ]
    }
   ],
   "source": [
    "y_pred_uji = model_new.predict(x_test_uji)\n",
    "\n",
    "print(classification_report(y_test_uji, y_pred_uji))"
   ]
  },
  {
   "cell_type": "code",
   "execution_count": 72,
   "metadata": {},
   "outputs": [
    {
     "name": "stdout",
     "output_type": "stream",
     "text": [
      "Nilai score roc_auc untuk data test Uji adalah:  0.9297969154334216\n"
     ]
    }
   ],
   "source": [
    "from sklearn.metrics import roc_auc_score\n",
    "\n",
    "yprob_uji = model_new.predict_proba(x_test_uji)\n",
    "\n",
    "y_pred_post_uji = yprob_uji[:,1]\n",
    "\n",
    "sc_roc_auc_uji = roc_auc_score(y_test_uji, y_pred_post_uji)\n",
    "print('Nilai score roc_auc untuk data test Uji adalah: ', sc_roc_auc_uji)"
   ]
  },
  {
   "cell_type": "code",
   "execution_count": 73,
   "metadata": {},
   "outputs": [
    {
     "name": "stdout",
     "output_type": "stream",
     "text": [
      "Cross-Predicted Accuracy: 0.397767932299812\n"
     ]
    }
   ],
   "source": [
    "from sklearn.metrics import r2_score\n",
    "accuracy = r2_score(y_test_uji, y_pred_uji)\n",
    "print ('Cross-Predicted Accuracy:', accuracy)"
   ]
  },
  {
   "cell_type": "code",
   "execution_count": null,
   "metadata": {},
   "outputs": [],
   "source": []
  }
 ],
 "metadata": {
  "kernelspec": {
   "display_name": "Python 3",
   "language": "python",
   "name": "python3"
  },
  "language_info": {
   "codemirror_mode": {
    "name": "ipython",
    "version": 3
   },
   "file_extension": ".py",
   "mimetype": "text/x-python",
   "name": "python",
   "nbconvert_exporter": "python",
   "pygments_lexer": "ipython3",
   "version": "3.7.7"
  }
 },
 "nbformat": 4,
 "nbformat_minor": 4
}
