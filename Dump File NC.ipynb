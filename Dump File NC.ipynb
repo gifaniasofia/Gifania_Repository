{
 "cells": [
  {
   "cell_type": "code",
   "execution_count": 1,
   "metadata": {},
   "outputs": [],
   "source": [
    "from netCDF4 import Dataset\n",
    "from numpy import dtype\n",
    "import numpy as np\n",
    "\n",
    "#-----------------\n",
    "# read netCDF file\n",
    "#-----------------\n",
    "\n",
    "# open a netCDF file to read\n",
    "filename = \"JRA/1973/anl_p125.034_vgrd.1973010100_1973013118.nc\"\n",
    "ncin = Dataset(filename, 'r', format='NETCDF4')"
   ]
  },
  {
   "cell_type": "code",
   "execution_count": 2,
   "metadata": {},
   "outputs": [
    {
     "data": {
      "text/plain": [
       "(<class 'netCDF4._netCDF4.Variable'>\n",
       " int32 lv_ISBL1(lv_ISBL1)\n",
       "     units: hPa\n",
       "     long_name: isobaric level\n",
       " unlimited dimensions: \n",
       " current shape = (37,)\n",
       " filling on, default _FillValue of -2147483647 used, (145,), (288,))"
      ]
     },
     "execution_count": 2,
     "metadata": {},
     "output_type": "execute_result"
    }
   ],
   "source": [
    "lat=ncin['g0_lat_2'][:]\n",
    "lon=ncin['g0_lon_3'][:]\n",
    "leve=ncin['lv_ISBL1']\n",
    "leve, lat.shape, lon.shape"
   ]
  },
  {
   "cell_type": "code",
   "execution_count": 3,
   "metadata": {},
   "outputs": [
    {
     "data": {
      "text/plain": [
       "OrderedDict([('VGRD_GDS0_ISBL', <class 'netCDF4._netCDF4.Variable'>\n",
       "              float32 VGRD_GDS0_ISBL(initial_time0_hours, lv_ISBL1, g0_lat_2, g0_lon_3)\n",
       "                  forecast_time_units: hours\n",
       "                  forecast_time: 0\n",
       "                  parameter_number: 34\n",
       "                  parameter_table_version: 200\n",
       "                  gds_grid_type: 0\n",
       "                  level_indicator: 100\n",
       "                  _FillValue: 1e+20\n",
       "                  units: m/s\n",
       "                  long_name: v-component of wind\n",
       "                  center: Japanese Meteorological Agency - Tokyo (RSMC)\n",
       "                  sub_center: 241\n",
       "              unlimited dimensions: \n",
       "              current shape = (124, 37, 145, 288)\n",
       "              filling on),\n",
       "             ('initial_time0_hours', <class 'netCDF4._netCDF4.Variable'>\n",
       "              float64 initial_time0_hours(initial_time0_hours)\n",
       "                  units: hours since 1800-01-01 00:00\n",
       "                  long_name: initial time\n",
       "              unlimited dimensions: \n",
       "              current shape = (124,)\n",
       "              filling on, default _FillValue of 9.969209968386869e+36 used),\n",
       "             ('initial_time0_encoded', <class 'netCDF4._netCDF4.Variable'>\n",
       "              float64 initial_time0_encoded(initial_time0_hours)\n",
       "                  units: yyyymmddhh.hh_frac\n",
       "                  long_name: initial time encoded as double\n",
       "              unlimited dimensions: \n",
       "              current shape = (124,)\n",
       "              filling on, default _FillValue of 9.969209968386869e+36 used),\n",
       "             ('g0_lat_2', <class 'netCDF4._netCDF4.Variable'>\n",
       "              float32 g0_lat_2(g0_lat_2)\n",
       "                  La1: 90.0\n",
       "                  Lo1: 0.0\n",
       "                  La2: -90.0\n",
       "                  Lo2: -1.25\n",
       "                  Di: 1.25\n",
       "                  Dj: 1.25\n",
       "                  units: degrees_north\n",
       "                  GridType: Cylindrical Equidistant Projection Grid\n",
       "                  long_name: latitude\n",
       "              unlimited dimensions: \n",
       "              current shape = (145,)\n",
       "              filling on, default _FillValue of 9.969209968386869e+36 used),\n",
       "             ('g0_lon_3', <class 'netCDF4._netCDF4.Variable'>\n",
       "              float32 g0_lon_3(g0_lon_3)\n",
       "                  La1: 90.0\n",
       "                  Lo1: 0.0\n",
       "                  La2: -90.0\n",
       "                  Lo2: -1.25\n",
       "                  Di: 1.25\n",
       "                  Dj: 1.25\n",
       "                  units: degrees_east\n",
       "                  GridType: Cylindrical Equidistant Projection Grid\n",
       "                  long_name: longitude\n",
       "              unlimited dimensions: \n",
       "              current shape = (288,)\n",
       "              filling on, default _FillValue of 9.969209968386869e+36 used),\n",
       "             ('lv_ISBL1', <class 'netCDF4._netCDF4.Variable'>\n",
       "              int32 lv_ISBL1(lv_ISBL1)\n",
       "                  units: hPa\n",
       "                  long_name: isobaric level\n",
       "              unlimited dimensions: \n",
       "              current shape = (37,)\n",
       "              filling on, default _FillValue of -2147483647 used),\n",
       "             ('initial_time0', <class 'netCDF4._netCDF4.Variable'>\n",
       "              |S1 initial_time0(initial_time0_hours, ncl_strlen_0)\n",
       "                  NCL_converted_from_type: string\n",
       "                  units: mm/dd/yyyy (hh:mm)\n",
       "                  long_name: Initial time of first record\n",
       "              unlimited dimensions: \n",
       "              current shape = (124, 18)\n",
       "              filling on, default _FillValue of \u0000 used)])"
      ]
     },
     "execution_count": 3,
     "metadata": {},
     "output_type": "execute_result"
    }
   ],
   "source": [
    "ncin.variables"
   ]
  },
  {
   "cell_type": "code",
   "execution_count": 4,
   "metadata": {},
   "outputs": [],
   "source": [
    "# np.where(lat==30), np.where(lat==-52.5), np.where(lon==16.25), np.where(lon==137.5)"
   ]
  },
  {
   "cell_type": "code",
   "execution_count": 5,
   "metadata": {},
   "outputs": [],
   "source": [
    "# check netCDF file format\n",
    "#print(ncin.file_format)\n",
    "\n",
    "# get axis data\n",
    "#print(ncin.dimensions.keys())\n",
    "#print(ncin.dimensions['time'])\n",
    "\n",
    "tin = ncin.variables['initial_time0_hours']\n",
    "lev = ncin.variables['lv_ISBL1']\n",
    "latitude = ncin.variables['g0_lat_2']\n",
    "longitude = ncin.variables['g0_lon_3']\n",
    "# latitude = ncin.variables['g0_lat_2'][48:114]\n",
    "# longitude = ncin.variables['g0_lon_3'][13:110]\n",
    "\n",
    "# get length of axis data\n",
    "#ntime = len(tin)\n",
    "nlev = len(lev)\n",
    "ntime = len(tin)/len(tin)\n",
    "nlat = len(latitude)\n",
    "nlon = len(longitude)"
   ]
  },
  {
   "cell_type": "code",
   "execution_count": 6,
   "metadata": {},
   "outputs": [
    {
     "data": {
      "text/plain": [
       "((288,), (145,), (124,), (37,), 37, 1.0, 145, 288)"
      ]
     },
     "execution_count": 6,
     "metadata": {},
     "output_type": "execute_result"
    }
   ],
   "source": [
    "longitude.shape, latitude.shape, tin.shape, lev.shape, nlev, ntime, nlat, nlon"
   ]
  },
  {
   "cell_type": "code",
   "execution_count": 7,
   "metadata": {},
   "outputs": [
    {
     "data": {
      "text/plain": [
       "(124, 37, 145, 288)"
      ]
     },
     "execution_count": 7,
     "metadata": {},
     "output_type": "execute_result"
    }
   ],
   "source": [
    "# read data\n",
    "vin = ncin.variables['VGRD_GDS0_ISBL'][:,:,:,:]\n",
    "# vin = ncin.variables['HGT_GDS0_ISBL'][:,:,48:114,13:110]\n",
    "vin.shape"
   ]
  },
  {
   "cell_type": "code",
   "execution_count": 8,
   "metadata": {},
   "outputs": [
    {
     "data": {
      "text/plain": [
       "(1, 37, 145, 288)"
      ]
     },
     "execution_count": 8,
     "metadata": {},
     "output_type": "execute_result"
    }
   ],
   "source": [
    "#rata per bulan\n",
    "\n",
    "vin = np.nanmean(np.reshape(vin,(124,1,37,145,288)), axis=0)\n",
    "# vin = np.nanmean(np.reshape(vin,(112,1,37,66,97)), axis=0)\n",
    "vin.shape"
   ]
  },
  {
   "cell_type": "code",
   "execution_count": 9,
   "metadata": {},
   "outputs": [
    {
     "data": {
      "text/plain": [
       "<class 'netCDF4._netCDF4.Dimension'>: name = 'g0_lon_3', size = 288"
      ]
     },
     "execution_count": 9,
     "metadata": {},
     "output_type": "execute_result"
    }
   ],
   "source": [
    "#------------------\n",
    "# write netCDF file\n",
    "#------------------\n",
    "\n",
    "# open a netCDF file to write\n",
    "ncout = Dataset('JRA/vwnd/vwnd197301.nc', 'w', format='NETCDF4')\n",
    "\n",
    "# define axis size\n",
    "ncout.createDimension('time', ntime)  # unlimited\n",
    "ncout.createDimension('lv_ISBL1',nlev)\n",
    "ncout.createDimension('g0_lat_2', nlat)\n",
    "ncout.createDimension('g0_lon_3', nlon)"
   ]
  },
  {
   "cell_type": "code",
   "execution_count": 10,
   "metadata": {},
   "outputs": [
    {
     "data": {
      "text/plain": [
       "(1, 37, 145, 288)"
      ]
     },
     "execution_count": 10,
     "metadata": {},
     "output_type": "execute_result"
    }
   ],
   "source": [
    "vin.shape"
   ]
  },
  {
   "cell_type": "code",
   "execution_count": 11,
   "metadata": {},
   "outputs": [],
   "source": [
    "# create time axis\n",
    "time = ncout.createVariable('time', dtype('double').char, ('time',))\n",
    "time.long_name = 'initial time'\n",
    "time.units = 'hours since 1973-01-01 00:00:0.0'\n",
    "time.calendar = 'standard'\n",
    "time.axis = 'T'\n",
    "\n",
    "#creat level axis\n",
    "level = ncout.createVariable('lv_ISBL1', dtype('double').char, ('lv_ISBL1',))\n",
    "level.long_name = 'isobaric level'\n",
    "level.units = 'hPa'\n",
    "level.axis= 'Z'\n",
    "\n",
    "# create latitude axis\n",
    "lat = ncout.createVariable('g0_lat_2', dtype('double').char, ('g0_lat_2'))\n",
    "lat.standard_name = 'latitude'\n",
    "lat.long_name = 'latitude'\n",
    "lat.units = 'degrees_north'\n",
    "lat.axis = 'Y'\n",
    "\n",
    "# create longitude axis\n",
    "lon = ncout.createVariable('g0_lon_3', dtype('double').char, ('g0_lon_3'))\n",
    "lon.standard_name = 'longitude'\n",
    "lon.long_name = 'longitude'\n",
    "lon.units = 'degrees_east'\n",
    "lon.axis = 'X'\n",
    "\n",
    "# create variable array\n",
    "vout = ncout.createVariable('VGRD_GDS0_ISBL', dtype('double').char, ('time', 'lv_ISBL1', 'g0_lat_2', 'g0_lon_3'))\n",
    "vout.long_name = 'v-component of wind'\n",
    "vout.units = 'm/s'"
   ]
  },
  {
   "cell_type": "code",
   "execution_count": 12,
   "metadata": {},
   "outputs": [],
   "source": [
    "# copy axis from original dataset\n",
    "level[:] = lev[:]\n",
    "time[:] = ntime\n",
    "lon[:] = longitude[:]\n",
    "lat[:] = latitude[:]\n",
    "vout[:] = vin[:]\n",
    "\n",
    "# close files\n",
    "ncin.close()\n",
    "ncout.close()"
   ]
  },
  {
   "cell_type": "code",
   "execution_count": 13,
   "metadata": {},
   "outputs": [],
   "source": [
    "test_filename = \"JRA/vwnd/vwnd197301.nc\"\n",
    "testfile = Dataset(test_filename, 'r', format='NETCDF4')"
   ]
  },
  {
   "cell_type": "code",
   "execution_count": 14,
   "metadata": {},
   "outputs": [
    {
     "data": {
      "text/plain": [
       "OrderedDict([('time', <class 'netCDF4._netCDF4.Variable'>\n",
       "              float64 time(time)\n",
       "                  long_name: initial time\n",
       "                  units: hours since 1973-01-01 00:00:0.0\n",
       "                  calendar: standard\n",
       "                  axis: T\n",
       "              unlimited dimensions: \n",
       "              current shape = (1,)\n",
       "              filling on, default _FillValue of 9.969209968386869e+36 used),\n",
       "             ('lv_ISBL1', <class 'netCDF4._netCDF4.Variable'>\n",
       "              float64 lv_ISBL1(lv_ISBL1)\n",
       "                  long_name: isobaric level\n",
       "                  units: hPa\n",
       "                  axis: Z\n",
       "              unlimited dimensions: \n",
       "              current shape = (37,)\n",
       "              filling on, default _FillValue of 9.969209968386869e+36 used),\n",
       "             ('g0_lat_2', <class 'netCDF4._netCDF4.Variable'>\n",
       "              float64 g0_lat_2(g0_lat_2)\n",
       "                  standard_name: latitude\n",
       "                  long_name: latitude\n",
       "                  units: degrees_north\n",
       "                  axis: Y\n",
       "              unlimited dimensions: \n",
       "              current shape = (145,)\n",
       "              filling on, default _FillValue of 9.969209968386869e+36 used),\n",
       "             ('g0_lon_3', <class 'netCDF4._netCDF4.Variable'>\n",
       "              float64 g0_lon_3(g0_lon_3)\n",
       "                  standard_name: longitude\n",
       "                  long_name: longitude\n",
       "                  units: degrees_east\n",
       "                  axis: X\n",
       "              unlimited dimensions: \n",
       "              current shape = (288,)\n",
       "              filling on, default _FillValue of 9.969209968386869e+36 used),\n",
       "             ('VGRD_GDS0_ISBL', <class 'netCDF4._netCDF4.Variable'>\n",
       "              float64 VGRD_GDS0_ISBL(time, lv_ISBL1, g0_lat_2, g0_lon_3)\n",
       "                  long_name: v-component of wind\n",
       "                  units: m/s\n",
       "              unlimited dimensions: \n",
       "              current shape = (1, 37, 145, 288)\n",
       "              filling on, default _FillValue of 9.969209968386869e+36 used)])"
      ]
     },
     "execution_count": 14,
     "metadata": {},
     "output_type": "execute_result"
    }
   ],
   "source": [
    "testfile.variables"
   ]
  },
  {
   "cell_type": "code",
   "execution_count": 15,
   "metadata": {},
   "outputs": [
    {
     "data": {
      "text/plain": [
       "<class 'netCDF4._netCDF4.Variable'>\n",
       "float64 VGRD_GDS0_ISBL(time, lv_ISBL1, g0_lat_2, g0_lon_3)\n",
       "    long_name: v-component of wind\n",
       "    units: m/s\n",
       "unlimited dimensions: \n",
       "current shape = (1, 37, 145, 288)\n",
       "filling on, default _FillValue of 9.969209968386869e+36 used"
      ]
     },
     "execution_count": 15,
     "metadata": {},
     "output_type": "execute_result"
    }
   ],
   "source": [
    "testfile['VGRD_GDS0_ISBL']"
   ]
  },
  {
   "cell_type": "code",
   "execution_count": null,
   "metadata": {},
   "outputs": [],
   "source": []
  }
 ],
 "metadata": {
  "kernelspec": {
   "display_name": "Python 3",
   "language": "python",
   "name": "python3"
  },
  "language_info": {
   "codemirror_mode": {
    "name": "ipython",
    "version": 3
   },
   "file_extension": ".py",
   "mimetype": "text/x-python",
   "name": "python",
   "nbconvert_exporter": "python",
   "pygments_lexer": "ipython3",
   "version": "3.7.7"
  }
 },
 "nbformat": 4,
 "nbformat_minor": 2
}
